{
 "cells": [
  {
   "cell_type": "code",
   "execution_count": 1,
   "metadata": {
    "collapsed": false
   },
   "outputs": [
    {
     "name": "stderr",
     "output_type": "stream",
     "text": [
      "Using TensorFlow backend.\n"
     ]
    }
   ],
   "source": [
    "import os, random, glob, pickle, collections, math\n",
    "import numpy as np\n",
    "import pandas as pd\n",
    "import ujson as json\n",
    "from PIL import Image\n",
    "from sklearn.model_selection import train_test_split\n",
    "from sklearn.metrics import log_loss\n",
    "from sklearn.preprocessing import LabelEncoder\n",
    "\n",
    "import matplotlib.pyplot as plt\n",
    "%matplotlib inline \n",
    "\n",
    "from keras.models import Sequential, Model, load_model, model_from_json\n",
    "from keras.layers import GlobalAveragePooling2D, Flatten, Dropout, Dense, LeakyReLU\n",
    "from keras.optimizers import Adam\n",
    "from keras.callbacks import EarlyStopping, ModelCheckpoint, ReduceLROnPlateau, TensorBoard\n",
    "from keras.preprocessing.image import ImageDataGenerator\n",
    "from keras.utils import np_utils\n",
    "from keras.preprocessing import image\n",
    "from keras import backend as K\n",
    "K.set_image_dim_ordering('tf')"
   ]
  },
  {
   "cell_type": "code",
   "execution_count": 2,
   "metadata": {
    "collapsed": false
   },
   "outputs": [],
   "source": [
    "TRAIN_DIR = '../data/train/'\n",
    "TEST_DIR = '../RFCN/JPEGImages/'\n",
    "TRAIN_CROP_DIR = '../data/train_crop/'\n",
    "TEST_CROP_DIR = '../data/test_stg1_crop/'\n",
    "RFCN_MODEL = 'resnet101_rfcn_ohem_iter_30000'\n",
    "CROP_MODEL = 'resnet50_FT38_Classifier_Rep'\n",
    "if not os.path.exists('./' + CROP_MODEL):\n",
    "    os.mkdir('./' + CROP_MODEL)\n",
    "CHECKPOINT_DIR = './' + CROP_MODEL + '/checkpoint/'\n",
    "if not os.path.exists(CHECKPOINT_DIR):\n",
    "    os.mkdir(CHECKPOINT_DIR)\n",
    "LOG_DIR = './' + CROP_MODEL + '/log/'\n",
    "if not os.path.exists(LOG_DIR):\n",
    "    os.mkdir(LOG_DIR)\n",
    "OUTPUT_DIR = './' + CROP_MODEL + '/output/'\n",
    "if not os.path.exists(OUTPUT_DIR):\n",
    "    os.mkdir(OUTPUT_DIR)\n",
    "FISH_CLASSES = ['NoF', 'ALB', 'BET', 'DOL', 'LAG', 'OTHER', 'SHARK', 'YFT']\n",
    "# CROP_CLASSES=FISH_CLASSES[:]\n",
    "# CROP_CLASSES.remove('NoF')\n",
    "CONF_THRESH = 0.8\n",
    "ROWS = 224\n",
    "COLS = 224\n",
    "BATCHSIZE = 128\n",
    "LEARNINGRATE = 1e-4\n",
    "def featurewise_center(x):\n",
    "    mean = np.mean(x, axis=0)\n",
    "    mean = np.mean(mean, axis=0)\n",
    "    mean = np.mean(mean, axis=0)\n",
    "    return mean\n",
    "\n",
    "def load_img(path, bbox, target_size=None):\n",
    "    img = Image.open(path)\n",
    "    img = img.convert('RGB')\n",
    "    cropped = img.crop((bbox[0],bbox[1],bbox[2],bbox[3]))\n",
    "    if target_size:\n",
    "        cropped = cropped.resize((target_size[1], target_size[0]))\n",
    "    return cropped\n",
    "\n",
    "def preprocess_input(x, mean):\n",
    "    #resnet50 image preprocessing\n",
    "#     'RGB'->'BGR'\n",
    "#     x = x[:, :, ::-1]\n",
    "    x /= 255.\n",
    "    x[:, :, 0] -= mean[0]\n",
    "    x[:, :, 1] -= mean[1]\n",
    "    x[:, :, 2] -= mean[2]\n",
    "    return x\n",
    "\n",
    "def get_best_model(checkpoint_dir = CHECKPOINT_DIR):\n",
    "    files = glob.glob(checkpoint_dir+'*')\n",
    "    val_losses = [float(f.split('-')[-1][:-5]) for f in files]\n",
    "    index = val_losses.index(min(val_losses))\n",
    "    print('Loading model from checkpoint file ' + files[index])\n",
    "    model = load_model(files[index])\n",
    "    model_name = files[index].split('/')[-1]\n",
    "    return (model, model_name)"
   ]
  },
  {
   "cell_type": "code",
   "execution_count": 3,
   "metadata": {
    "collapsed": false
   },
   "outputs": [
    {
     "name": "stdout",
     "output_type": "stream",
     "text": [
      "Loading from file GTbbox_df.pickle\n"
     ]
    }
   ],
   "source": [
    "# GTbbox_df = ['image_file','crop_index','crop_class','xmin',''ymin','xmax','ymax']\n",
    "\n",
    "file_name = 'GTbbox_df.pickle'\n",
    "if os.path.exists(OUTPUT_DIR+file_name):\n",
    "    print ('Loading from file '+file_name)\n",
    "    GTbbox_df = pd.read_pickle(OUTPUT_DIR+file_name)\n",
    "else:\n",
    "    print ('Generating file '+file_name)       \n",
    "    GTbbox_df = pd.DataFrame(columns=['image_file','crop_index','crop_class','xmin','ymin','xmax','ymax'])  \n",
    "\n",
    "    crop_classes=FISH_CLASSES[:]\n",
    "    crop_classes.remove('NoF')\n",
    "    \n",
    "    for c in crop_classes:\n",
    "        print(c)\n",
    "        j = json.load(open('../data/BBannotations/{}.json'.format(c), 'r'))\n",
    "        for l in j: \n",
    "            filename = l[\"filename\"]\n",
    "            head, image_file = os.path.split(filename)\n",
    "            basename, file_extension = os.path.splitext(image_file) \n",
    "            image = Image.open(TEST_DIR+'/'+image_file)\n",
    "            width_image, height_image = image.size\n",
    "            for i in range(len(l[\"annotations\"])):\n",
    "                a = l[\"annotations\"][i]\n",
    "                xmin = (a[\"x\"])\n",
    "                ymin = (a[\"y\"])\n",
    "                width = (a[\"width\"])\n",
    "                height = (a[\"height\"])\n",
    "                xmax = xmin + width\n",
    "                ymax = ymin + height\n",
    "                assert max(xmin,0)<min(xmax,width_image)\n",
    "                assert max(ymin,0)<min(ymax,height_image)\n",
    "                GTbbox_df.loc[len(GTbbox_df)]=[image_file,i,a[\"class\"],max(xmin,0),max(ymin,0),min(xmax,width_image),min(ymax,height_image)]\n",
    "                if a[\"class\"] != c: print(GTbbox_df.tail(1))  \n",
    "        \n",
    "        \n",
    "    num_NoF = GTbbox_df.shape[0]*3\n",
    "    RFCN_MODEL = 'resnet101_rfcn_ohem_iter_30000'\n",
    "    with open('../data/RFCN_detections/detections_full_AGNOSTICnms_'+RFCN_MODEL+'.pkl','rb') as f:\n",
    "        detections_full_AGNOSTICnms = pickle.load(f, encoding='latin1') \n",
    "    train_detections_full_AGNOSTICnms = detections_full_AGNOSTICnms[1000:]\n",
    "    with open(\"../RFCN/ImageSets/Main/test.txt\",\"r\") as f:\n",
    "        test_files = f.readlines()\n",
    "    train_files = test_files[1000:]\n",
    "    num_NoF_perIm = math.ceil(num_NoF / len(train_detections_full_AGNOSTICnms))\n",
    "\n",
    "    for im in range(len(train_files)):\n",
    "        image_file = train_files[im][:-1]+'.jpg'\n",
    "        image = Image.open(TEST_DIR+image_file)\n",
    "        width_image, height_image = image.size\n",
    "        detects_im = train_detections_full_AGNOSTICnms[im]\n",
    "        detects_im = detects_im[np.where(detects_im[:,4] >= 0.999)]\n",
    "        bboxes = detects_im[np.random.choice(detects_im.shape[0], num_NoF_perIm, replace=False), :]\n",
    "        for j in range(bboxes.shape[0]):    \n",
    "            bbox = bboxes[j]\n",
    "            xmin = bbox[0]\n",
    "            ymin = bbox[1]\n",
    "            xmax = bbox[2]\n",
    "            ymax = bbox[3]\n",
    "            assert max(xmin,0)<min(xmax,width_image)\n",
    "            assert max(ymin,0)<min(ymax,height_image)\n",
    "            GTbbox_df.loc[len(GTbbox_df)]=[image_file,j,'NoF',max(xmin,0),max(ymin,0),min(xmax,width_image),min(ymax,height_image)]\n",
    "\n",
    "    GTbbox_df.to_pickle(OUTPUT_DIR+file_name)  "
   ]
  },
  {
   "cell_type": "code",
   "execution_count": 4,
   "metadata": {
    "collapsed": false
   },
   "outputs": [
    {
     "name": "stdout",
     "output_type": "stream",
     "text": [
      "Loading from file data_train_Crop_224_224.pickle\n",
      "Loading data done.\n",
      "Convert to float32 done.\n",
      "Rescale by 255 done.\n"
     ]
    }
   ],
   "source": [
    "#compute featuresise_center to add to preprocessing\n",
    "\n",
    "# with open(OUTPUT_DIR+'featurewise_center.pickle', 'rb') as f:\n",
    "#     mean = pickle.load(f)\n",
    "    \n",
    "file_name = 'data_train_Crop_{}_{}.pickle'.format(ROWS, COLS)\n",
    "if os.path.exists(OUTPUT_DIR+file_name):\n",
    "    print ('Loading from file '+file_name)\n",
    "    with open(OUTPUT_DIR+file_name, 'rb') as f:\n",
    "        data_train = pickle.load(f)\n",
    "    X_train_crop = data_train['X_train_crop']\n",
    "    y_train_crop = data_train['y_train_crop']\n",
    "else:\n",
    "    print ('Generating file '+file_name)\n",
    "\n",
    "    X_train_crop = np.ndarray((GTbbox_df.shape[0], ROWS, COLS, 3), dtype=np.uint8)\n",
    "    y_train_crop = np.zeros((GTbbox_df.shape[0], len(FISH_CLASSES)), dtype=K.floatx())\n",
    "    i = 0\n",
    "    for index,row in GTbbox_df.iterrows():\n",
    "        image_file = row['image_file']\n",
    "        fish = row['crop_class']\n",
    "        bbox = [row['xmin'],row['ymin'],row['xmax'],row['ymax']]\n",
    "        cropped = load_img(TEST_DIR+image_file,bbox,target_size=(ROWS,COLS))\n",
    "        X_train_crop[i] = np.asarray(cropped)\n",
    "        y_train_crop[i,FISH_CLASSES.index(fish)] = 1\n",
    "        i += 1\n",
    "   \n",
    "    #save data to file\n",
    "    data_train = {'X_train_crop': X_train_crop,'y_train_crop': y_train_crop}\n",
    "    with open(OUTPUT_DIR+file_name, 'wb') as f:\n",
    "        pickle.dump(data_train, f)\n",
    "        \n",
    "#     mean = featurewise_center(X_train_crop)\n",
    "#     with open(OUTPUT_DIR+'featurewise_center.pickle', 'wb') as f:\n",
    "#         pickle.dump(mean, f)\n",
    "\n",
    "print('Loading data done.')\n",
    "X_train_crop = X_train_crop.astype(np.float32)\n",
    "print('Convert to float32 done.')\n",
    "X_train_crop /= 255.\n",
    "print('Rescale by 255 done.')\n",
    "#traing stg1 and stg2 and resume should have the same train test split!!! Remenber to set the random_state!\n",
    "X_train, X_valid, y_train, y_valid = train_test_split(X_train_crop, y_train_crop, test_size=0.2, random_state=1986, stratify=y_train_crop)"
   ]
  },
  {
   "cell_type": "code",
   "execution_count": 5,
   "metadata": {
    "collapsed": false
   },
   "outputs": [
    {
     "data": {
      "text/plain": [
       "{0: 1.0,\n",
       " 1: 6.0119379228014322,\n",
       " 2: 49.372549019607845,\n",
       " 3: 119.9047619047619,\n",
       " 4: 143.88571428571427,\n",
       " 5: 45.369369369369366,\n",
       " 6: 79.936507936507937,\n",
       " 7: 18.908635794743429}"
      ]
     },
     "execution_count": 5,
     "metadata": {},
     "output_type": "execute_result"
    }
   ],
   "source": [
    "# #class weight = n_samples / (n_classes * np.bincount(y))\n",
    "# class_weight_fish = dict(GTbbox_df.groupby('crop_class').size())\n",
    "# class_weight = {}\n",
    "# n_samples = GTbbox_df.shape[0]\n",
    "# for key,value in class_weight_fish.items():\n",
    "#         class_weight[CROP_CLASSES.index(key)] = n_samples / (len(CROP_CLASSES)*value)\n",
    "# class_weight\n",
    "\n",
    "class_weight_fish = dict(GTbbox_df.groupby('crop_class').size())\n",
    "class_weight = {}\n",
    "ref = max(class_weight_fish.values())\n",
    "for key,value in class_weight_fish.items():\n",
    "    class_weight[FISH_CLASSES.index(key)] = ref/value\n",
    "class_weight"
   ]
  },
  {
   "cell_type": "code",
   "execution_count": 6,
   "metadata": {
    "collapsed": false
   },
   "outputs": [],
   "source": [
    "#data preprocessing\n",
    "\n",
    "train_datagen = ImageDataGenerator(\n",
    "    featurewise_center=True,\n",
    "    rotation_range=180,\n",
    "    shear_range=0.2,\n",
    "    zoom_range=0.1,\n",
    "    width_shift_range=0.1,\n",
    "    height_shift_range=0.1,\n",
    "    horizontal_flip=True,\n",
    "    vertical_flip=True)\n",
    "train_datagen.fit(X_train)\n",
    "train_generator = train_datagen.flow(X_train, y_train, batch_size=BATCHSIZE, shuffle=True, seed=None)\n",
    "\n",
    "valid_datagen = ImageDataGenerator(featurewise_center=True)\n",
    "valid_datagen.fit(X_valid) \n",
    "valid_generator = valid_datagen.flow(X_valid, y_valid, batch_size=BATCHSIZE, shuffle=True, seed=None)"
   ]
  },
  {
   "cell_type": "raw",
   "metadata": {
    "collapsed": false
   },
   "source": [
    "%%time\n",
    "# train data prepare\n",
    "# GTbbox_df = ['image_file','crop_index','crop_class','xmin',''ymin','xmax','ymax']\n",
    "\n",
    "train_df, valid_df = train_test_split(GTbbox_df, test_size=0.2, random_state=1986, stratify=GTbbox_df['crop_class'])\n",
    "\n",
    "# nb_fish = math.ceil(BATCHSIZE / len(CROP_CLASSES))\n",
    "# samples_per_epoch=BATCHSIZE*math.ceil(train_df.groupby('crop_class').size()['ALB']/nb_fish)\n",
    "  \n",
    "train_datagen = ImageDataGenerator(\n",
    "    rotation_range=180,\n",
    "    shear_range=0.2,\n",
    "    zoom_range=0.1,\n",
    "    width_shift_range=0.1,\n",
    "    height_shift_range=0.1,\n",
    "    horizontal_flip=True,\n",
    "    vertical_flip=True)\n",
    "\n",
    "def train_generator(datagen, df):\n",
    "    n = df.shape[0]\n",
    "    batch_index = 0\n",
    "    while 1:\n",
    "        if batch_index == 0:\n",
    "            index_array = np.random.permutation(n)\n",
    "\n",
    "        current_index = (batch_index * BATCHSIZE) % n\n",
    "        if n >= current_index + BATCHSIZE:\n",
    "            current_batch_size = BATCHSIZE\n",
    "            batch_index += 1\n",
    "        else:\n",
    "            current_batch_size = n - current_index\n",
    "            batch_index = 0\n",
    "        \n",
    "        batch_x = np.zeros((current_batch_size, ROWS, COLS, 3), dtype=K.floatx())\n",
    "        batch_y = np.zeros((current_batch_size, len(FISH_CLASSES)), dtype=K.floatx())\n",
    "#         fn = lambda obj: obj.loc[np.random.choice(obj.index, size=nb_fish, replace=False),:]\n",
    "#         batch_df = df.groupby('crop_class', as_index=True).apply(fn)\n",
    "        batch_df = df.iloc[index_array[current_index: current_index + current_batch_size],:]\n",
    "        i = 0\n",
    "        for index,row in batch_df.iterrows():\n",
    "            image_file = row['image_file']\n",
    "            fish = row['crop_class']\n",
    "            bbox = [row['xmin'],row['ymin'],row['xmax'],row['ymax']]\n",
    "            cropped = load_img(TEST_DIR+image_file,bbox,target_size=(ROWS,COLS))\n",
    "            x = np.asarray(cropped, dtype=K.floatx())\n",
    "            x = datagen.random_transform(x)\n",
    "            x = preprocess_input(x, mean)\n",
    "            batch_x[i] = x\n",
    "            batch_y[i,FISH_CLASSES.index(fish)] = 1\n",
    "            i += 1\n",
    "        yield batch_x, batch_y\n",
    "\n",
    "# validation_data (valid_x,valid_y)\n",
    "valid_x = np.zeros((valid_df.shape[0], ROWS, COLS, 3), dtype=K.floatx())\n",
    "valid_y = np.zeros((valid_df.shape[0], len(FISH_CLASSES)), dtype=K.floatx())\n",
    "i = 0\n",
    "for index,row in valid_df.iterrows():\n",
    "    image_file = row['image_file']\n",
    "    fish = row['crop_class']\n",
    "    bbox = [row['xmin'],row['ymin'],row['xmax'],row['ymax']]\n",
    "    cropped = load_img(TEST_DIR+image_file,bbox,target_size=(ROWS,COLS))\n",
    "    x = np.asarray(cropped, dtype=K.floatx())\n",
    "    x = preprocess_input(x, mean)\n",
    "    valid_x[i] = x\n",
    "    valid_y[i,FISH_CLASSES.index(fish)] = 1\n",
    "    i += 1\n"
   ]
  },
  {
   "cell_type": "code",
   "execution_count": 8,
   "metadata": {
    "collapsed": true
   },
   "outputs": [],
   "source": [
    "#callbacks\n",
    "\n",
    "early_stopping = EarlyStopping(monitor='val_loss', min_delta=0, patience=10, verbose=1, mode='auto')        \n",
    "\n",
    "model_checkpoint = ModelCheckpoint(filepath=CHECKPOINT_DIR+'weights.{epoch:03d}-{val_loss:.4f}.hdf5', monitor='val_loss', verbose=1, save_best_only=True, save_weights_only=False, mode='auto')\n",
    "        \n",
    "learningrate_schedule = ReduceLROnPlateau(monitor='val_loss', factor=0.1, patience=5, verbose=1, mode='auto', epsilon=0.001, cooldown=0, min_lr=0)\n",
    "\n",
    "tensorboard = TensorBoard(log_dir=LOG_DIR, histogram_freq=0, write_graph=False, write_images=True)\n"
   ]
  },
  {
   "cell_type": "code",
   "execution_count": 8,
   "metadata": {
    "collapsed": false,
    "scrolled": true
   },
   "outputs": [
    {
     "name": "stdout",
     "output_type": "stream",
     "text": [
      "Epoch 1/30\n",
      "15488/15583 [============================>.] - ETA: 1s - loss: 11.6449 - acc: 0.3122"
     ]
    },
    {
     "name": "stderr",
     "output_type": "stream",
     "text": [
      "/opt/anaconda3/lib/python3.5/site-packages/keras/engine/training.py:1470: UserWarning: Epoch comprised more than `samples_per_epoch` samples, which might affect learning results. Set `samples_per_epoch` correctly to avoid this warning.\n",
      "  warnings.warn('Epoch comprised more than '\n"
     ]
    },
    {
     "name": "stdout",
     "output_type": "stream",
     "text": [
      "Epoch 00000: val_loss improved from inf to 1.54642, saving model to ./resnet50_FT38_Classifier_Rep/checkpoint/weights.000-1.5464.hdf5\n",
      "15616/15583 [==============================] - 277s - loss: 11.6586 - acc: 0.3137 - val_loss: 1.5464 - val_acc: 0.7162\n",
      "Epoch 2/30\n",
      "15488/15583 [============================>.] - ETA: 1s - loss: 10.1584 - acc: 0.5597Epoch 00001: val_loss improved from 1.54642 to 1.25420, saving model to ./resnet50_FT38_Classifier_Rep/checkpoint/weights.001-1.2542.hdf5\n",
      "15616/15583 [==============================] - 266s - loss: 10.1437 - acc: 0.5605 - val_loss: 1.2542 - val_acc: 0.7747\n",
      "Epoch 3/30\n",
      "15517/15583 [============================>.] - ETA: 0s - loss: 8.4496 - acc: 0.6514Epoch 00002: val_loss improved from 1.25420 to 1.10303, saving model to ./resnet50_FT38_Classifier_Rep/checkpoint/weights.002-1.1030.hdf5\n",
      "15645/15583 [==============================] - 268s - loss: 8.4630 - acc: 0.6518 - val_loss: 1.1030 - val_acc: 0.7765\n",
      "Epoch 4/30\n",
      "15488/15583 [============================>.] - ETA: 1s - loss: 7.5289 - acc: 0.6818Epoch 00003: val_loss improved from 1.10303 to 1.05698, saving model to ./resnet50_FT38_Classifier_Rep/checkpoint/weights.003-1.0570.hdf5\n",
      "15616/15583 [==============================] - 265s - loss: 7.5185 - acc: 0.6819 - val_loss: 1.0570 - val_acc: 0.7702\n",
      "Epoch 5/30\n",
      "15488/15583 [============================>.] - ETA: 1s - loss: 7.2539 - acc: 0.6975Epoch 00004: val_loss improved from 1.05698 to 0.97476, saving model to ./resnet50_FT38_Classifier_Rep/checkpoint/weights.004-0.9748.hdf5\n",
      "15616/15583 [==============================] - 264s - loss: 7.2452 - acc: 0.6968 - val_loss: 0.9748 - val_acc: 0.7770\n",
      "Epoch 6/30\n",
      "15517/15583 [============================>.] - ETA: 0s - loss: 6.5817 - acc: 0.7146Epoch 00005: val_loss improved from 0.97476 to 0.93967, saving model to ./resnet50_FT38_Classifier_Rep/checkpoint/weights.005-0.9397.hdf5\n",
      "15645/15583 [==============================] - 265s - loss: 6.5894 - acc: 0.7143 - val_loss: 0.9397 - val_acc: 0.7707\n",
      "Epoch 7/30\n",
      "15488/15583 [============================>.] - ETA: 1s - loss: 6.2407 - acc: 0.7308Epoch 00006: val_loss improved from 0.93967 to 0.73189, saving model to ./resnet50_FT38_Classifier_Rep/checkpoint/weights.006-0.7319.hdf5\n",
      "15616/15583 [==============================] - 264s - loss: 6.2161 - acc: 0.7309 - val_loss: 0.7319 - val_acc: 0.7903\n",
      "Epoch 8/30\n",
      "15488/15583 [============================>.] - ETA: 1s - loss: 5.7673 - acc: 0.7481Epoch 00007: val_loss improved from 0.73189 to 0.60082, saving model to ./resnet50_FT38_Classifier_Rep/checkpoint/weights.007-0.6008.hdf5\n",
      "15616/15583 [==============================] - 265s - loss: 5.7569 - acc: 0.7481 - val_loss: 0.6008 - val_acc: 0.8304\n",
      "Epoch 9/30\n",
      "15517/15583 [============================>.] - ETA: 0s - loss: 5.9058 - acc: 0.7461Epoch 00008: val_loss did not improve\n",
      "15645/15583 [==============================] - 264s - loss: 5.9346 - acc: 0.7462 - val_loss: 0.6643 - val_acc: 0.7928\n",
      "Epoch 10/30\n",
      "15488/15583 [============================>.] - ETA: 1s - loss: 5.4523 - acc: 0.7569Epoch 00009: val_loss did not improve\n",
      "15616/15583 [==============================] - 264s - loss: 5.4397 - acc: 0.7569 - val_loss: 0.7203 - val_acc: 0.7699\n",
      "Epoch 11/30\n",
      "15488/15583 [============================>.] - ETA: 1s - loss: 5.3344 - acc: 0.7546Epoch 00010: val_loss did not improve\n",
      "15616/15583 [==============================] - 265s - loss: 5.3325 - acc: 0.7547 - val_loss: 0.6756 - val_acc: 0.7833\n",
      "Epoch 12/30\n",
      "15517/15583 [============================>.] - ETA: 0s - loss: 5.1086 - acc: 0.7623Epoch 00011: val_loss did not improve\n",
      "15645/15583 [==============================] - 267s - loss: 5.0929 - acc: 0.7625 - val_loss: 0.6742 - val_acc: 0.7797\n",
      "Epoch 13/30\n",
      "15488/15583 [============================>.] - ETA: 1s - loss: 4.9040 - acc: 0.7815Epoch 00012: val_loss did not improve\n",
      "15616/15583 [==============================] - 267s - loss: 4.9004 - acc: 0.7812 - val_loss: 0.6776 - val_acc: 0.7749\n",
      "Epoch 14/30\n",
      "15488/15583 [============================>.] - ETA: 1s - loss: 4.7289 - acc: 0.7827Epoch 00013: val_loss did not improve\n",
      "\n",
      "Epoch 00013: reducing learning rate to 9.999999747378752e-06.\n",
      "15616/15583 [==============================] - 267s - loss: 4.7171 - acc: 0.7821 - val_loss: 0.6546 - val_acc: 0.7860\n",
      "Epoch 15/30\n",
      "10880/15583 [===================>..........] - ETA: 63s - loss: 4.9157 - acc: 0.7845"
     ]
    },
    {
     "ename": "KeyboardInterrupt",
     "evalue": "",
     "output_type": "error",
     "traceback": [
      "\u001b[0;31m---------------------------------------------------------------------------\u001b[0m",
      "\u001b[0;31mKeyboardInterrupt\u001b[0m                         Traceback (most recent call last)",
      "\u001b[0;32m<ipython-input-8-5be5766b7209>\u001b[0m in \u001b[0;36m<module>\u001b[0;34m()\u001b[0m\n\u001b[1;32m     30\u001b[0m model.fit_generator(train_generator, samples_per_epoch=len(X_train), nb_epoch=30, verbose=1, \n\u001b[1;32m     31\u001b[0m                     \u001b[0mcallbacks\u001b[0m\u001b[0;34m=\u001b[0m\u001b[0;34m[\u001b[0m\u001b[0mearly_stopping\u001b[0m\u001b[0;34m,\u001b[0m \u001b[0mmodel_checkpoint\u001b[0m\u001b[0;34m,\u001b[0m \u001b[0mlearningrate_schedule\u001b[0m\u001b[0;34m,\u001b[0m \u001b[0mtensorboard\u001b[0m\u001b[0;34m]\u001b[0m\u001b[0;34m,\u001b[0m\u001b[0;34m\u001b[0m\u001b[0m\n\u001b[0;32m---> 32\u001b[0;31m                     validation_data=valid_generator, nb_val_samples=len(X_valid), class_weight=class_weight, nb_worker=3, pickle_safe=True)\n\u001b[0m",
      "\u001b[0;32m/opt/anaconda3/lib/python3.5/site-packages/keras/engine/training.py\u001b[0m in \u001b[0;36mfit_generator\u001b[0;34m(self, generator, samples_per_epoch, nb_epoch, verbose, callbacks, validation_data, nb_val_samples, class_weight, max_q_size, nb_worker, pickle_safe, initial_epoch)\u001b[0m\n\u001b[1;32m   1449\u001b[0m                     outs = self.train_on_batch(x, y,\n\u001b[1;32m   1450\u001b[0m                                                \u001b[0msample_weight\u001b[0m\u001b[0;34m=\u001b[0m\u001b[0msample_weight\u001b[0m\u001b[0;34m,\u001b[0m\u001b[0;34m\u001b[0m\u001b[0m\n\u001b[0;32m-> 1451\u001b[0;31m                                                class_weight=class_weight)\n\u001b[0m\u001b[1;32m   1452\u001b[0m                 \u001b[0;32mexcept\u001b[0m\u001b[0;34m:\u001b[0m\u001b[0;34m\u001b[0m\u001b[0m\n\u001b[1;32m   1453\u001b[0m                     \u001b[0m_stop\u001b[0m\u001b[0;34m.\u001b[0m\u001b[0mset\u001b[0m\u001b[0;34m(\u001b[0m\u001b[0;34m)\u001b[0m\u001b[0;34m\u001b[0m\u001b[0m\n",
      "\u001b[0;32m/opt/anaconda3/lib/python3.5/site-packages/keras/engine/training.py\u001b[0m in \u001b[0;36mtrain_on_batch\u001b[0;34m(self, x, y, sample_weight, class_weight)\u001b[0m\n\u001b[1;32m   1224\u001b[0m             \u001b[0mins\u001b[0m \u001b[0;34m=\u001b[0m \u001b[0mx\u001b[0m \u001b[0;34m+\u001b[0m \u001b[0my\u001b[0m \u001b[0;34m+\u001b[0m \u001b[0msample_weights\u001b[0m\u001b[0;34m\u001b[0m\u001b[0m\n\u001b[1;32m   1225\u001b[0m         \u001b[0mself\u001b[0m\u001b[0;34m.\u001b[0m\u001b[0m_make_train_function\u001b[0m\u001b[0;34m(\u001b[0m\u001b[0;34m)\u001b[0m\u001b[0;34m\u001b[0m\u001b[0m\n\u001b[0;32m-> 1226\u001b[0;31m         \u001b[0moutputs\u001b[0m \u001b[0;34m=\u001b[0m \u001b[0mself\u001b[0m\u001b[0;34m.\u001b[0m\u001b[0mtrain_function\u001b[0m\u001b[0;34m(\u001b[0m\u001b[0mins\u001b[0m\u001b[0;34m)\u001b[0m\u001b[0;34m\u001b[0m\u001b[0m\n\u001b[0m\u001b[1;32m   1227\u001b[0m         \u001b[0;32mif\u001b[0m \u001b[0mlen\u001b[0m\u001b[0;34m(\u001b[0m\u001b[0moutputs\u001b[0m\u001b[0;34m)\u001b[0m \u001b[0;34m==\u001b[0m \u001b[0;36m1\u001b[0m\u001b[0;34m:\u001b[0m\u001b[0;34m\u001b[0m\u001b[0m\n\u001b[1;32m   1228\u001b[0m             \u001b[0;32mreturn\u001b[0m \u001b[0moutputs\u001b[0m\u001b[0;34m[\u001b[0m\u001b[0;36m0\u001b[0m\u001b[0;34m]\u001b[0m\u001b[0;34m\u001b[0m\u001b[0m\n",
      "\u001b[0;32m/opt/anaconda3/lib/python3.5/site-packages/keras/backend/tensorflow_backend.py\u001b[0m in \u001b[0;36m__call__\u001b[0;34m(self, inputs)\u001b[0m\n\u001b[1;32m   1094\u001b[0m             \u001b[0mfeed_dict\u001b[0m\u001b[0;34m[\u001b[0m\u001b[0mtensor\u001b[0m\u001b[0;34m]\u001b[0m \u001b[0;34m=\u001b[0m \u001b[0mvalue\u001b[0m\u001b[0;34m\u001b[0m\u001b[0m\n\u001b[1;32m   1095\u001b[0m         \u001b[0msession\u001b[0m \u001b[0;34m=\u001b[0m \u001b[0mget_session\u001b[0m\u001b[0;34m(\u001b[0m\u001b[0;34m)\u001b[0m\u001b[0;34m\u001b[0m\u001b[0m\n\u001b[0;32m-> 1096\u001b[0;31m         \u001b[0mupdated\u001b[0m \u001b[0;34m=\u001b[0m \u001b[0msession\u001b[0m\u001b[0;34m.\u001b[0m\u001b[0mrun\u001b[0m\u001b[0;34m(\u001b[0m\u001b[0mself\u001b[0m\u001b[0;34m.\u001b[0m\u001b[0moutputs\u001b[0m \u001b[0;34m+\u001b[0m \u001b[0;34m[\u001b[0m\u001b[0mself\u001b[0m\u001b[0;34m.\u001b[0m\u001b[0mupdates_op\u001b[0m\u001b[0;34m]\u001b[0m\u001b[0;34m,\u001b[0m \u001b[0mfeed_dict\u001b[0m\u001b[0;34m=\u001b[0m\u001b[0mfeed_dict\u001b[0m\u001b[0;34m)\u001b[0m\u001b[0;34m\u001b[0m\u001b[0m\n\u001b[0m\u001b[1;32m   1097\u001b[0m         \u001b[0;32mreturn\u001b[0m \u001b[0mupdated\u001b[0m\u001b[0;34m[\u001b[0m\u001b[0;34m:\u001b[0m\u001b[0mlen\u001b[0m\u001b[0;34m(\u001b[0m\u001b[0mself\u001b[0m\u001b[0;34m.\u001b[0m\u001b[0moutputs\u001b[0m\u001b[0;34m)\u001b[0m\u001b[0;34m]\u001b[0m\u001b[0;34m\u001b[0m\u001b[0m\n\u001b[1;32m   1098\u001b[0m \u001b[0;34m\u001b[0m\u001b[0m\n",
      "\u001b[0;32m/opt/anaconda3/lib/python3.5/site-packages/tensorflow/python/client/session.py\u001b[0m in \u001b[0;36mrun\u001b[0;34m(self, fetches, feed_dict, options, run_metadata)\u001b[0m\n\u001b[1;32m    715\u001b[0m     \u001b[0;32mtry\u001b[0m\u001b[0;34m:\u001b[0m\u001b[0;34m\u001b[0m\u001b[0m\n\u001b[1;32m    716\u001b[0m       result = self._run(None, fetches, feed_dict, options_ptr,\n\u001b[0;32m--> 717\u001b[0;31m                          run_metadata_ptr)\n\u001b[0m\u001b[1;32m    718\u001b[0m       \u001b[0;32mif\u001b[0m \u001b[0mrun_metadata\u001b[0m\u001b[0;34m:\u001b[0m\u001b[0;34m\u001b[0m\u001b[0m\n\u001b[1;32m    719\u001b[0m         \u001b[0mproto_data\u001b[0m \u001b[0;34m=\u001b[0m \u001b[0mtf_session\u001b[0m\u001b[0;34m.\u001b[0m\u001b[0mTF_GetBuffer\u001b[0m\u001b[0;34m(\u001b[0m\u001b[0mrun_metadata_ptr\u001b[0m\u001b[0;34m)\u001b[0m\u001b[0;34m\u001b[0m\u001b[0m\n",
      "\u001b[0;32m/opt/anaconda3/lib/python3.5/site-packages/tensorflow/python/client/session.py\u001b[0m in \u001b[0;36m_run\u001b[0;34m(self, handle, fetches, feed_dict, options, run_metadata)\u001b[0m\n\u001b[1;32m    913\u001b[0m     \u001b[0;32mif\u001b[0m \u001b[0mfinal_fetches\u001b[0m \u001b[0;32mor\u001b[0m \u001b[0mfinal_targets\u001b[0m\u001b[0;34m:\u001b[0m\u001b[0;34m\u001b[0m\u001b[0m\n\u001b[1;32m    914\u001b[0m       results = self._do_run(handle, final_targets, final_fetches,\n\u001b[0;32m--> 915\u001b[0;31m                              feed_dict_string, options, run_metadata)\n\u001b[0m\u001b[1;32m    916\u001b[0m     \u001b[0;32melse\u001b[0m\u001b[0;34m:\u001b[0m\u001b[0;34m\u001b[0m\u001b[0m\n\u001b[1;32m    917\u001b[0m       \u001b[0mresults\u001b[0m \u001b[0;34m=\u001b[0m \u001b[0;34m[\u001b[0m\u001b[0;34m]\u001b[0m\u001b[0;34m\u001b[0m\u001b[0m\n",
      "\u001b[0;32m/opt/anaconda3/lib/python3.5/site-packages/tensorflow/python/client/session.py\u001b[0m in \u001b[0;36m_do_run\u001b[0;34m(self, handle, target_list, fetch_list, feed_dict, options, run_metadata)\u001b[0m\n\u001b[1;32m    963\u001b[0m     \u001b[0;32mif\u001b[0m \u001b[0mhandle\u001b[0m \u001b[0;32mis\u001b[0m \u001b[0;32mNone\u001b[0m\u001b[0;34m:\u001b[0m\u001b[0;34m\u001b[0m\u001b[0m\n\u001b[1;32m    964\u001b[0m       return self._do_call(_run_fn, self._session, feed_dict, fetch_list,\n\u001b[0;32m--> 965\u001b[0;31m                            target_list, options, run_metadata)\n\u001b[0m\u001b[1;32m    966\u001b[0m     \u001b[0;32melse\u001b[0m\u001b[0;34m:\u001b[0m\u001b[0;34m\u001b[0m\u001b[0m\n\u001b[1;32m    967\u001b[0m       return self._do_call(_prun_fn, self._session, handle, feed_dict,\n",
      "\u001b[0;32m/opt/anaconda3/lib/python3.5/site-packages/tensorflow/python/client/session.py\u001b[0m in \u001b[0;36m_do_call\u001b[0;34m(self, fn, *args)\u001b[0m\n\u001b[1;32m    970\u001b[0m   \u001b[0;32mdef\u001b[0m \u001b[0m_do_call\u001b[0m\u001b[0;34m(\u001b[0m\u001b[0mself\u001b[0m\u001b[0;34m,\u001b[0m \u001b[0mfn\u001b[0m\u001b[0;34m,\u001b[0m \u001b[0;34m*\u001b[0m\u001b[0margs\u001b[0m\u001b[0;34m)\u001b[0m\u001b[0;34m:\u001b[0m\u001b[0;34m\u001b[0m\u001b[0m\n\u001b[1;32m    971\u001b[0m     \u001b[0;32mtry\u001b[0m\u001b[0;34m:\u001b[0m\u001b[0;34m\u001b[0m\u001b[0m\n\u001b[0;32m--> 972\u001b[0;31m       \u001b[0;32mreturn\u001b[0m \u001b[0mfn\u001b[0m\u001b[0;34m(\u001b[0m\u001b[0;34m*\u001b[0m\u001b[0margs\u001b[0m\u001b[0;34m)\u001b[0m\u001b[0;34m\u001b[0m\u001b[0m\n\u001b[0m\u001b[1;32m    973\u001b[0m     \u001b[0;32mexcept\u001b[0m \u001b[0merrors\u001b[0m\u001b[0;34m.\u001b[0m\u001b[0mOpError\u001b[0m \u001b[0;32mas\u001b[0m \u001b[0me\u001b[0m\u001b[0;34m:\u001b[0m\u001b[0;34m\u001b[0m\u001b[0m\n\u001b[1;32m    974\u001b[0m       \u001b[0mmessage\u001b[0m \u001b[0;34m=\u001b[0m \u001b[0mcompat\u001b[0m\u001b[0;34m.\u001b[0m\u001b[0mas_text\u001b[0m\u001b[0;34m(\u001b[0m\u001b[0me\u001b[0m\u001b[0;34m.\u001b[0m\u001b[0mmessage\u001b[0m\u001b[0;34m)\u001b[0m\u001b[0;34m\u001b[0m\u001b[0m\n",
      "\u001b[0;32m/opt/anaconda3/lib/python3.5/site-packages/tensorflow/python/client/session.py\u001b[0m in \u001b[0;36m_run_fn\u001b[0;34m(session, feed_dict, fetch_list, target_list, options, run_metadata)\u001b[0m\n\u001b[1;32m    952\u001b[0m         return tf_session.TF_Run(session, options,\n\u001b[1;32m    953\u001b[0m                                  \u001b[0mfeed_dict\u001b[0m\u001b[0;34m,\u001b[0m \u001b[0mfetch_list\u001b[0m\u001b[0;34m,\u001b[0m \u001b[0mtarget_list\u001b[0m\u001b[0;34m,\u001b[0m\u001b[0;34m\u001b[0m\u001b[0m\n\u001b[0;32m--> 954\u001b[0;31m                                  status, run_metadata)\n\u001b[0m\u001b[1;32m    955\u001b[0m \u001b[0;34m\u001b[0m\u001b[0m\n\u001b[1;32m    956\u001b[0m     \u001b[0;32mdef\u001b[0m \u001b[0m_prun_fn\u001b[0m\u001b[0;34m(\u001b[0m\u001b[0msession\u001b[0m\u001b[0;34m,\u001b[0m \u001b[0mhandle\u001b[0m\u001b[0;34m,\u001b[0m \u001b[0mfeed_dict\u001b[0m\u001b[0;34m,\u001b[0m \u001b[0mfetch_list\u001b[0m\u001b[0;34m)\u001b[0m\u001b[0;34m:\u001b[0m\u001b[0;34m\u001b[0m\u001b[0m\n",
      "\u001b[0;31mKeyboardInterrupt\u001b[0m: "
     ]
    }
   ],
   "source": [
    "#Resnet50\n",
    "#top layer training\n",
    "\n",
    "from keras.applications.resnet50 import ResNet50\n",
    "\n",
    "base_model = ResNet50(weights='imagenet', include_top=False)\n",
    "x = base_model.output\n",
    "x = GlobalAveragePooling2D()(x)\n",
    "# x = Flatten()(x)\n",
    "# x = Dense(256, init='glorot_normal', activation='relu')(x)\n",
    "# x = LeakyReLU(alpha=0.33)(x)\n",
    "# x = Dropout(0.5)(x)\n",
    "# x = Dense(256, init='glorot_normal', activation='relu')(x)\n",
    "# x = Dense(256, init='glorot_normal')(x)\n",
    "# x = LeakyReLU(alpha=0.33)(x)\n",
    "# x = Dropout(0.5)(x)\n",
    "predictions = Dense(len(FISH_CLASSES), init='glorot_normal', activation='softmax')(x)\n",
    "\n",
    "model = Model(input=base_model.input, output=predictions)\n",
    "\n",
    "# first: train only the top layers (which were randomly initialized)\n",
    "for layer in base_model.layers:\n",
    "    layer.trainable = False\n",
    "\n",
    "# compile the model (should be done *after* setting layers to non-trainable)\n",
    "optimizer = Adam(lr=LEARNINGRATE)\n",
    "model.compile(optimizer=optimizer, loss='categorical_crossentropy', metrics=['accuracy'])\n",
    "\n",
    "# train the model on the new data for a few epochs\n",
    "model.fit_generator(train_generator, samples_per_epoch=len(X_train), nb_epoch=30, verbose=1, \n",
    "                    callbacks=[early_stopping, model_checkpoint, learningrate_schedule, tensorboard], \n",
    "                    validation_data=valid_generator, nb_val_samples=len(X_valid), class_weight=class_weight, nb_worker=3, pickle_safe=True)"
   ]
  },
  {
   "cell_type": "code",
   "execution_count": null,
   "metadata": {
    "collapsed": false,
    "scrolled": false
   },
   "outputs": [
    {
     "name": "stdout",
     "output_type": "stream",
     "text": [
      "Loading model from checkpoint file ./resnet50_FT38_Classifier_Rep/checkpoint/weights.007-0.6008.hdf5\n",
      "Epoch 1/300\n",
      "15488/15583 [============================>.] - ETA: 2s - loss: 5.1624 - acc: 0.7647"
     ]
    },
    {
     "name": "stderr",
     "output_type": "stream",
     "text": [
      "/opt/anaconda3/lib/python3.5/site-packages/keras/engine/training.py:1470: UserWarning: Epoch comprised more than `samples_per_epoch` samples, which might affect learning results. Set `samples_per_epoch` correctly to avoid this warning.\n",
      "  warnings.warn('Epoch comprised more than '\n"
     ]
    },
    {
     "name": "stdout",
     "output_type": "stream",
     "text": [
      "Epoch 00000: val_loss improved from 0.60082 to 0.53021, saving model to ./resnet50_FT38_Classifier_Rep/checkpoint/weights.000-0.5302.hdf5\n",
      "15616/15583 [==============================] - 492s - loss: 5.1426 - acc: 0.7648 - val_loss: 0.5302 - val_acc: 0.8347\n",
      "Epoch 2/300\n",
      "15488/15583 [============================>.] - ETA: 2s - loss: 3.7899 - acc: 0.8050Epoch 00001: val_loss improved from 0.53021 to 0.48300, saving model to ./resnet50_FT38_Classifier_Rep/checkpoint/weights.001-0.4830.hdf5\n",
      "15616/15583 [==============================] - 462s - loss: 3.7870 - acc: 0.8052 - val_loss: 0.4830 - val_acc: 0.8526\n",
      "Epoch 3/300\n",
      "15517/15583 [============================>.] - ETA: 1s - loss: 3.0179 - acc: 0.8419Epoch 00002: val_loss improved from 0.48300 to 0.42930, saving model to ./resnet50_FT38_Classifier_Rep/checkpoint/weights.002-0.4293.hdf5\n",
      "15645/15583 [==============================] - 468s - loss: 3.0067 - acc: 0.8417 - val_loss: 0.4293 - val_acc: 0.8770\n",
      "Epoch 4/300\n",
      "15488/15583 [============================>.] - ETA: 2s - loss: 2.5683 - acc: 0.8663Epoch 00003: val_loss improved from 0.42930 to 0.39616, saving model to ./resnet50_FT38_Classifier_Rep/checkpoint/weights.003-0.3962.hdf5\n",
      "15616/15583 [==============================] - 462s - loss: 2.5643 - acc: 0.8665 - val_loss: 0.3962 - val_acc: 0.8876\n",
      "Epoch 5/300\n",
      "15488/15583 [============================>.] - ETA: 2s - loss: 2.0966 - acc: 0.8895Epoch 00004: val_loss improved from 0.39616 to 0.33805, saving model to ./resnet50_FT38_Classifier_Rep/checkpoint/weights.004-0.3381.hdf5\n",
      "15616/15583 [==============================] - 462s - loss: 2.1022 - acc: 0.8895 - val_loss: 0.3381 - val_acc: 0.8926\n",
      "Epoch 6/300\n",
      "15517/15583 [============================>.] - ETA: 1s - loss: 1.8041 - acc: 0.9022Epoch 00005: val_loss improved from 0.33805 to 0.30136, saving model to ./resnet50_FT38_Classifier_Rep/checkpoint/weights.005-0.3014.hdf5\n",
      "15645/15583 [==============================] - 464s - loss: 1.8000 - acc: 0.9024 - val_loss: 0.3014 - val_acc: 0.9098\n",
      "Epoch 7/300\n",
      "15488/15583 [============================>.] - ETA: 2s - loss: 1.5337 - acc: 0.9147Epoch 00006: val_loss improved from 0.30136 to 0.28388, saving model to ./resnet50_FT38_Classifier_Rep/checkpoint/weights.006-0.2839.hdf5\n",
      "15616/15583 [==============================] - 463s - loss: 1.5343 - acc: 0.9146 - val_loss: 0.2839 - val_acc: 0.9100\n",
      "Epoch 8/300\n",
      "15488/15583 [============================>.] - ETA: 2s - loss: 1.4463 - acc: 0.9201Epoch 00007: val_loss improved from 0.28388 to 0.26117, saving model to ./resnet50_FT38_Classifier_Rep/checkpoint/weights.007-0.2612.hdf5\n",
      "15616/15583 [==============================] - 462s - loss: 1.4476 - acc: 0.9199 - val_loss: 0.2612 - val_acc: 0.9257\n",
      "Epoch 9/300\n",
      "15517/15583 [============================>.] - ETA: 1s - loss: 1.1564 - acc: 0.9303Epoch 00008: val_loss improved from 0.26117 to 0.25366, saving model to ./resnet50_FT38_Classifier_Rep/checkpoint/weights.008-0.2537.hdf5\n",
      "15645/15583 [==============================] - 464s - loss: 1.1581 - acc: 0.9304 - val_loss: 0.2537 - val_acc: 0.9284\n",
      "Epoch 10/300\n",
      "15488/15583 [============================>.] - ETA: 2s - loss: 1.0867 - acc: 0.9409Epoch 00009: val_loss improved from 0.25366 to 0.22460, saving model to ./resnet50_FT38_Classifier_Rep/checkpoint/weights.009-0.2246.hdf5\n",
      "15616/15583 [==============================] - 461s - loss: 1.0833 - acc: 0.9408 - val_loss: 0.2246 - val_acc: 0.9350\n",
      "Epoch 11/300\n",
      "15488/15583 [============================>.] - ETA: 2s - loss: 0.9651 - acc: 0.9436Epoch 00010: val_loss improved from 0.22460 to 0.20407, saving model to ./resnet50_FT38_Classifier_Rep/checkpoint/weights.010-0.2041.hdf5\n",
      "15616/15583 [==============================] - 462s - loss: 0.9651 - acc: 0.9436 - val_loss: 0.2041 - val_acc: 0.9476\n",
      "Epoch 12/300\n",
      "15517/15583 [============================>.] - ETA: 1s - loss: 0.8403 - acc: 0.9477Epoch 00011: val_loss improved from 0.20407 to 0.19714, saving model to ./resnet50_FT38_Classifier_Rep/checkpoint/weights.011-0.1971.hdf5\n",
      "15645/15583 [==============================] - 464s - loss: 0.8388 - acc: 0.9479 - val_loss: 0.1971 - val_acc: 0.9435\n",
      "Epoch 13/300\n",
      "15488/15583 [============================>.] - ETA: 2s - loss: 0.7326 - acc: 0.9524Epoch 00012: val_loss improved from 0.19714 to 0.16948, saving model to ./resnet50_FT38_Classifier_Rep/checkpoint/weights.012-0.1695.hdf5\n",
      "15616/15583 [==============================] - 463s - loss: 0.7307 - acc: 0.9525 - val_loss: 0.1695 - val_acc: 0.9504\n",
      "Epoch 14/300\n",
      "15488/15583 [============================>.] - ETA: 2s - loss: 0.6573 - acc: 0.9593Epoch 00013: val_loss improved from 0.16948 to 0.16167, saving model to ./resnet50_FT38_Classifier_Rep/checkpoint/weights.013-0.1617.hdf5\n",
      "15616/15583 [==============================] - 461s - loss: 0.6551 - acc: 0.9593 - val_loss: 0.1617 - val_acc: 0.9549\n",
      "Epoch 15/300\n",
      "15517/15583 [============================>.] - ETA: 1s - loss: 0.7200 - acc: 0.9586Epoch 00014: val_loss improved from 0.16167 to 0.16064, saving model to ./resnet50_FT38_Classifier_Rep/checkpoint/weights.014-0.1606.hdf5\n",
      "15645/15583 [==============================] - 464s - loss: 0.7210 - acc: 0.9584 - val_loss: 0.1606 - val_acc: 0.9539\n",
      "Epoch 16/300\n",
      "15488/15583 [============================>.] - ETA: 2s - loss: 0.5977 - acc: 0.9627Epoch 00015: val_loss improved from 0.16064 to 0.12800, saving model to ./resnet50_FT38_Classifier_Rep/checkpoint/weights.015-0.1280.hdf5\n",
      "15616/15583 [==============================] - 462s - loss: 0.5955 - acc: 0.9627 - val_loss: 0.1280 - val_acc: 0.9665\n",
      "Epoch 17/300\n",
      "15488/15583 [============================>.] - ETA: 2s - loss: 0.5106 - acc: 0.9647Epoch 00016: val_loss did not improve\n",
      "15616/15583 [==============================] - 460s - loss: 0.5097 - acc: 0.9647 - val_loss: 0.1592 - val_acc: 0.9549\n",
      "Epoch 18/300\n",
      "15517/15583 [============================>.] - ETA: 1s - loss: 0.4989 - acc: 0.9655Epoch 00017: val_loss did not improve\n",
      "15645/15583 [==============================] - 462s - loss: 0.4969 - acc: 0.9654 - val_loss: 0.1447 - val_acc: 0.9597\n",
      "Epoch 19/300\n",
      "15488/15583 [============================>.] - ETA: 2s - loss: 0.4071 - acc: 0.9734Epoch 00018: val_loss did not improve\n",
      "15616/15583 [==============================] - 461s - loss: 0.4068 - acc: 0.9734 - val_loss: 0.1391 - val_acc: 0.9609\n",
      "Epoch 20/300\n",
      "15488/15583 [============================>.] - ETA: 2s - loss: 0.4343 - acc: 0.9700Epoch 00019: val_loss did not improve\n",
      "15616/15583 [==============================] - 463s - loss: 0.4381 - acc: 0.9700 - val_loss: 0.1371 - val_acc: 0.9627\n",
      "Epoch 21/300\n",
      "15517/15583 [============================>.] - ETA: 1s - loss: 0.4088 - acc: 0.9687Epoch 00020: val_loss improved from 0.12800 to 0.12627, saving model to ./resnet50_FT38_Classifier_Rep/checkpoint/weights.020-0.1263.hdf5\n",
      "15645/15583 [==============================] - 465s - loss: 0.4119 - acc: 0.9686 - val_loss: 0.1263 - val_acc: 0.9602\n",
      "Epoch 22/300\n",
      "15488/15583 [============================>.] - ETA: 2s - loss: 0.3245 - acc: 0.9753Epoch 00021: val_loss improved from 0.12627 to 0.12314, saving model to ./resnet50_FT38_Classifier_Rep/checkpoint/weights.021-0.1231.hdf5\n",
      "15616/15583 [==============================] - 464s - loss: 0.3258 - acc: 0.9752 - val_loss: 0.1231 - val_acc: 0.9660\n",
      "Epoch 23/300\n",
      "15488/15583 [============================>.] - ETA: 2s - loss: 0.2907 - acc: 0.9751Epoch 00022: val_loss improved from 0.12314 to 0.10828, saving model to ./resnet50_FT38_Classifier_Rep/checkpoint/weights.022-0.1083.hdf5\n",
      "15616/15583 [==============================] - 461s - loss: 0.2899 - acc: 0.9752 - val_loss: 0.1083 - val_acc: 0.9720\n",
      "Epoch 24/300\n",
      "15517/15583 [============================>.] - ETA: 1s - loss: 0.3288 - acc: 0.9762Epoch 00023: val_loss improved from 0.10828 to 0.09260, saving model to ./resnet50_FT38_Classifier_Rep/checkpoint/weights.023-0.0926.hdf5\n",
      "15645/15583 [==============================] - 465s - loss: 0.3290 - acc: 0.9762 - val_loss: 0.0926 - val_acc: 0.9730\n",
      "Epoch 25/300\n",
      "12160/15583 [======================>.......] - ETA: 89s - loss: 0.2669 - acc: 0.9783"
     ]
    }
   ],
   "source": [
    "# Resnet50\n",
    "# fine tuning\n",
    "# 164 conv5c+top\n",
    "# 142 conv5+top\n",
    "# 80 conv4+conv5+top\n",
    "# 38 conv3+conv4+conv5+top\n",
    "start_layer = 38\n",
    "\n",
    "model, model_name = get_best_model()\n",
    "# print('Loading model from weights.004-0.0565.hdf5')\n",
    "# model = load_model('./checkpoints/checkpoint3/weights.004-0.0565.hdf5')\n",
    "\n",
    "for layer in model.layers[:start_layer]:\n",
    "   layer.trainable = False\n",
    "for layer in model.layers[start_layer:]:\n",
    "   layer.trainable = True\n",
    "\n",
    "# we need to recompile the model for these modifications to take effect\n",
    "# we use SGD with a low learning rate\n",
    "optimizer = Adam(lr=1e-5)\n",
    "model.compile(optimizer=optimizer, loss='categorical_crossentropy', metrics=['accuracy'])\n",
    "\n",
    "model.fit_generator(train_generator, samples_per_epoch=len(X_train), nb_epoch=300, verbose=1, \n",
    "                    callbacks=[early_stopping, model_checkpoint, learningrate_schedule, tensorboard], \n",
    "                    validation_data=valid_generator, nb_val_samples=len(X_valid), class_weight=class_weight, nb_worker=3, pickle_safe=True)"
   ]
  },
  {
   "cell_type": "code",
   "execution_count": null,
   "metadata": {
    "collapsed": false
   },
   "outputs": [
    {
     "name": "stdout",
     "output_type": "stream",
     "text": [
      "Loading model from checkpoint file ./resnet50_FT38_Classifier_Rep/checkpoint/weights.010-0.0533.hdf5\n",
      "Epoch 1/100\n",
      "  896/15583 [>.............................] - ETA: 572s - loss: 0.0597 - acc: 0.9888"
     ]
    }
   ],
   "source": [
    "#resume training\n",
    "\n",
    "model, model_name = get_best_model()\n",
    "# print('Loading model from weights.004-0.0565.hdf5')\n",
    "# model = load_model('./checkpoints/checkpoint3/weights.004-0.0565.hdf5')\n",
    "\n",
    "model.fit_generator(train_generator, samples_per_epoch=len(X_train), nb_epoch=100, verbose=1, \n",
    "                    callbacks=[early_stopping, model_checkpoint, learningrate_schedule, tensorboard], \n",
    "                    validation_data=valid_generator, nb_val_samples=len(X_valid), class_weight=class_weight, nb_worker=3, pickle_safe=True)"
   ]
  },
  {
   "cell_type": "code",
   "execution_count": 13,
   "metadata": {
    "collapsed": false
   },
   "outputs": [
    {
     "name": "stdout",
     "output_type": "stream",
     "text": [
      "Loading model from checkpoint file ./resnet50_FT38_Classifier_Rep/checkpoint/weights.010-0.0533.hdf5\n"
     ]
    }
   ],
   "source": [
    "#test prepare\n",
    "\n",
    "test_model, test_model_name = get_best_model()\n",
    "# print('Loading model from weights.004-0.0565.hdf5')\n",
    "# test_model = load_model('./checkpoints/checkpoint2/weights.004-0.0565.hdf5')\n",
    "\n",
    "def test_generator(df, mean, datagen = None, batch_size = BATCHSIZE):\n",
    "    n = df.shape[0]\n",
    "    batch_index = 0\n",
    "    while 1:\n",
    "        current_index = batch_index * batch_size\n",
    "        if n >= current_index + batch_size:\n",
    "            current_batch_size = batch_size\n",
    "            batch_index += 1    \n",
    "        else:\n",
    "            current_batch_size = n - current_index\n",
    "            batch_index = 0        \n",
    "        batch_df = df[current_index:current_index+current_batch_size]\n",
    "        batch_x = np.zeros((batch_df.shape[0], ROWS, COLS, 3), dtype=K.floatx())\n",
    "        i = 0\n",
    "        for index,row in batch_df.iterrows():\n",
    "            image_file = row['image_file']\n",
    "            bbox = [row['xmin'],row['ymin'],row['xmax'],row['ymax']]\n",
    "            cropped = load_img(TEST_DIR+image_file,bbox,target_size=(ROWS,COLS))\n",
    "            x = np.asarray(cropped, dtype=K.floatx())\n",
    "            x /= 255.\n",
    "            if datagen is not None: x = datagen.random_transform(x)            \n",
    "            x -= mean\n",
    "            batch_x[i] = x\n",
    "            i += 1\n",
    "        if batch_index%50 == 0: print('batch_index', batch_index)\n",
    "        yield(batch_x)\n",
    "        \n",
    "test_aug_datagen = ImageDataGenerator(\n",
    "    rotation_range=180,\n",
    "    shear_range=0.2,\n",
    "    zoom_range=0.1,\n",
    "    width_shift_range=0.1,\n",
    "    height_shift_range=0.1,\n",
    "    horizontal_flip=True,\n",
    "    vertical_flip=True)"
   ]
  },
  {
   "cell_type": "code",
   "execution_count": 20,
   "metadata": {
    "collapsed": false
   },
   "outputs": [],
   "source": [
    "train_mean = train_datagen.mean\n",
    "valid_mean = valid_datagen.mean\n",
    "X_train_centered = X_train - train_mean\n",
    "X_valid_centered = X_valid - valid_mean"
   ]
  },
  {
   "cell_type": "code",
   "execution_count": null,
   "metadata": {
    "collapsed": false
   },
   "outputs": [],
   "source": [
    "np.max(train_mean-valid_mean)"
   ]
  },
  {
   "cell_type": "code",
   "execution_count": 22,
   "metadata": {
    "collapsed": false
   },
   "outputs": [
    {
     "name": "stdout",
     "output_type": "stream",
     "text": [
      "3896/3896 [==============================] - 37s    \n",
      "class\n",
      "ALB      0.101227\n",
      "BET      0.285945\n",
      "DOL      0.045057\n",
      "LAG      0.000174\n",
      "NoF      0.048201\n",
      "OTHER    0.424662\n",
      "SHARK    0.001984\n",
      "YFT      0.166705\n",
      "Name: logloss, dtype: float64\n",
      "0.0699864220637031\n",
      "15583/15583 [==============================] - 151s   \n",
      "class\n",
      "ALB      0.036542\n",
      "BET      0.002317\n",
      "DOL      0.000801\n",
      "LAG      0.000698\n",
      "NoF      0.032621\n",
      "OTHER    0.017632\n",
      "SHARK    0.002064\n",
      "YFT      0.004589\n",
      "Name: logloss, dtype: float64\n",
      "0.030560385465424476\n"
     ]
    }
   ],
   "source": [
    "#validation data fish logloss\n",
    " \n",
    "valid_pred = test_model.predict(X_valid_centered, batch_size=BATCHSIZE, verbose=1)\n",
    "# valid_pred = test_model.predict_generator(test_generator(df=valid_df, mean=valid_mean),\n",
    "#                                           val_samples=valid_df.shape[0], nb_worker=1, pickle_safe=False)\n",
    "valid_logloss_df = pd.DataFrame(columns=['logloss','class'])\n",
    "for i in range(y_valid.shape[0]):\n",
    "    index = np.argmax(y_valid[i,:])\n",
    "    fish = FISH_CLASSES[index]\n",
    "    logloss = -math.log(valid_pred[i,index])\n",
    "    valid_logloss_df.loc[len(valid_logloss_df)]=[logloss,fish]                                       \n",
    "print(valid_logloss_df.groupby(['class'])['logloss'].mean())\n",
    "print(valid_logloss_df['logloss'].mean())\n",
    "\n",
    "train_pred = test_model.predict(X_train_centered, batch_size=BATCHSIZE, verbose=1)\n",
    "# train_pred = test_model.predict_generator(test_generator(df=train_df, ),\n",
    "#                                           val_samples=train_df.shape[0], nb_worker=1, pickle_safe=False)\n",
    "train_logloss_df = pd.DataFrame(columns=['logloss','class'])\n",
    "for i in range(y_train.shape[0]):\n",
    "    index = np.argmax(y_train[i,:])\n",
    "    fish = FISH_CLASSES[index]\n",
    "    logloss = -math.log(train_pred[i,index])\n",
    "    train_logloss_df.loc[len(train_logloss_df)]=[logloss,fish]                                       \n",
    "print(train_logloss_df.groupby(['class'])['logloss'].mean())\n",
    "print(train_logloss_df['logloss'].mean())"
   ]
  },
  {
   "cell_type": "code",
   "execution_count": null,
   "metadata": {
    "collapsed": false
   },
   "outputs": [],
   "source": [
    "#GTbbox_CROPpred_df = ['image_file','crop_index','crop_class','xmin','ymin','xmax','ymax',\n",
    "#                      'NoF', 'ALB', 'BET', 'DOL', 'LAG', 'OTHER', 'SHARK', 'YFT', 'logloss']\n",
    "\n",
    "file_name = 'GTbbox_CROPpred_df_'+test_model_name+'_.pickle'\n",
    "if os.path.exists(OUTPUT_DIR+file_name):\n",
    "    print ('Loading from file '+file_name)\n",
    "    GTbbox_CROPpred_df = pd.read_pickle(OUTPUT_DIR+file_name)\n",
    "else:\n",
    "    print ('Generating file '+file_name) \n",
    "    nb_augmentation = 1\n",
    "    if nb_augmentation ==1:\n",
    "        test_preds = test_model.predict_generator(test_generator(df=GTbbox_df), \n",
    "                                                  val_samples=GTbbox_df.shape[0], nb_worker=1, pickle_safe=False)\n",
    "    else:\n",
    "        test_preds = np.zeros((GTbbox_df.shape[0], len(FISH_CLASSES)), dtype=K.floatx())\n",
    "        for idx in range(nb_augmentation):\n",
    "            print('{}th augmentation for testing ...'.format(idx+1))\n",
    "            test_preds += test_model.predict_generator(test_generator(df=GTbbox_df,datagen=test_aug_datagen), \n",
    "                                                       val_samples=GTbbox_df.shape[0], nb_worker=1, pickle_safe=False)\n",
    "        test_preds /= nb_augmentation\n",
    "\n",
    "    CROPpred_df = pd.DataFrame(test_preds, columns=FISH_CLASSES)\n",
    "    GTbbox_CROPpred_df = pd.concat([GTbbox_df,CROPpred_df], axis=1)\n",
    "    GTbbox_CROPpred_df['logloss'] = GTbbox_CROPpred_df.apply(lambda row: -math.log(row[row['crop_class']]), axis=1)\n",
    "    GTbbox_CROPpred_df.to_pickle(OUTPUT_DIR+file_name) \n",
    "\n",
    "#logloss of every fish class\n",
    "print(GTbbox_CROPpred_df.groupby(['crop_class'])['logloss'].mean())\n",
    "print(GTbbox_CROPpred_df['logloss'].mean())"
   ]
  },
  {
   "cell_type": "code",
   "execution_count": 24,
   "metadata": {
    "collapsed": false
   },
   "outputs": [
    {
     "name": "stdout",
     "output_type": "stream",
     "text": [
      "Generating file RFCNbbox_RFCNpred_df_conf0.80.pickle\n",
      "0\n",
      "1000\n",
      "2000\n",
      "3000\n",
      "4000\n"
     ]
    }
   ],
   "source": [
    "# RFCNbbox_RFCNpred_df = ['image_class','image_file','crop_index','xmin','ymin','xmax','ymax',\n",
    "#                          'NoF_RFCN', 'ALB_RFCN', 'BET_RFCN', 'DOL_RFCN',\n",
    "#                          'LAG_RFCN', 'OTHER_RFCN', 'SHARK_RFCN', 'YFT_RFCN']\n",
    "# select fish_conf >= CONF_THRESH\n",
    "\n",
    "file_name = 'RFCNbbox_RFCNpred_df_conf{:.2f}.pickle'.format(CONF_THRESH)\n",
    "if os.path.exists(OUTPUT_DIR+file_name):\n",
    "    print ('Loading from file '+file_name)\n",
    "    RFCNbbox_RFCNpred_df = pd.read_pickle(OUTPUT_DIR+file_name)\n",
    "else:\n",
    "    print ('Generating file '+file_name)        \n",
    "    RFCNbbox_RFCNpred_df = pd.DataFrame(columns=['image_class','image_file','crop_index','xmin','ymin','xmax','ymax',\n",
    "                                                  'NoF_RFCN', 'ALB_RFCN', 'BET_RFCN', 'DOL_RFCN',\n",
    "                                                  'LAG_RFCN', 'OTHER_RFCN', 'SHARK_RFCN', 'YFT_RFCN']) \n",
    "\n",
    "    with open('../data/RFCN_detections/detections_full_AGNOSTICnms_'+RFCN_MODEL+'.pkl','rb') as f:\n",
    "        detections_full_AGNOSTICnms = pickle.load(f, encoding='latin1') \n",
    "    with open(\"../RFCN/ImageSets/Main/test.txt\",\"r\") as f:\n",
    "        test_files = f.readlines()\n",
    "    with open(\"../RFCN/ImageSets/Main/train_test.txt\",\"r\") as f:\n",
    "        train_file_labels = f.readlines()\n",
    "    assert len(detections_full_AGNOSTICnms) == len(test_files)\n",
    "\n",
    "    for im in range(len(detections_full_AGNOSTICnms)):\n",
    "        if im%1000 == 0: print(im)\n",
    "        basename = test_files[im][:9]\n",
    "        if im<1000:\n",
    "            image_class = '--'\n",
    "        else:\n",
    "            for i in range(len(train_file_labels)):\n",
    "                if train_file_labels[i][:9] == basename:\n",
    "                    image_class = train_file_labels[i][10:-1]\n",
    "                    break\n",
    "        image = Image.open(TEST_DIR+'/'+basename+'.jpg')\n",
    "        width_image, height_image = image.size\n",
    "        \n",
    "        bboxes = []\n",
    "        detects_im = detections_full_AGNOSTICnms[im]\n",
    "        for i in range(len(detects_im)):\n",
    "            if np.sum(detects_im[i,5:]) >= CONF_THRESH:\n",
    "                bboxes.append(detects_im[i,:]) \n",
    "        if len(bboxes) == 0:\n",
    "            ind = np.argmax(np.sum(detects_im[:,5:], axis=1))\n",
    "            bboxes.append(detects_im[ind,:])\n",
    "        bboxes = np.asarray(bboxes)\n",
    "\n",
    "        for j in range(len(bboxes)):    \n",
    "            bbox = bboxes[j]\n",
    "            xmin = bbox[0]\n",
    "            ymin = bbox[1]\n",
    "            xmax = bbox[2]\n",
    "            ymax = bbox[3]\n",
    "            assert max(xmin,0)<min(xmax,width_image)\n",
    "            assert max(ymin,0)<min(ymax,height_image)\n",
    "            RFCNbbox_RFCNpred_df.loc[len(RFCNbbox_RFCNpred_df)]=[image_class,basename+'.jpg',j,max(xmin,0),max(ymin,0),\n",
    "                                                                   min(xmax,width_image),min(ymax,height_image),\n",
    "                                                                   bbox[4],bbox[5],bbox[6],bbox[7],bbox[8],bbox[9],bbox[10],bbox[11]]   \n",
    "    \n",
    "    RFCNbbox_RFCNpred_df.to_pickle(OUTPUT_DIR+file_name)      "
   ]
  },
  {
   "cell_type": "code",
   "execution_count": 44,
   "metadata": {
    "collapsed": false
   },
   "outputs": [],
   "source": [
    "# RFCNbbox_RFCNpred_CROPpred_HYBRIDpred_df = ['image_class', 'image_file','crop_index','xmin','ymin','xmax','ymax',\n",
    "#                                    'NoF_RFCN', 'ALB_RFCN', 'BET_RFCN', 'DOL_RFCN',\n",
    "#                                    'LAG_RFCN', 'OTHER_RFCN', 'SHARK_RFCN', 'YFT_RFCN',\n",
    "#                                    'NoF_CROP', 'ALB_CROP', 'BET_CROP', 'DOL_CROP',\n",
    "#                                    'LAG_CROP', 'OTHER_CROP', 'SHARK_CROP', 'YFT_CROP',\n",
    "#                                    'NoF', 'ALB', 'BET', 'DOL', 'LAG', 'OTHER', 'SHARK', 'YFT']\n",
    "\n",
    "file_name = 'RFCNbbox_RFCNpred_CROPpred_HYBRIDpred_df_'+test_model_name+'_.pickle'\n",
    "if os.path.exists(OUTPUT_DIR+file_name):\n",
    "    print ('Loading from file '+file_name)\n",
    "    RFCNbbox_RFCNpred_CROPpred_HYBRIDpred_df = pd.read_pickle(OUTPUT_DIR+file_name)\n",
    "else:\n",
    "#     print ('Generating file '+file_name)  \n",
    "#     nb_augmentation = 5\n",
    "#     if nb_augmentation ==1:\n",
    "#         test_preds = test_model.predict_generator(test_generator(df=RFCNbbox_RFCNpred_df, mean=train_mean), \n",
    "#                                                   val_samples=RFCNbbox_RFCNpred_df.shape[0], nb_worker=1, pickle_safe=False)\n",
    "#     else:\n",
    "#         test_preds = np.zeros((RFCNbbox_RFCNpred_df.shape[0], len(FISH_CLASSES)), dtype=K.floatx())\n",
    "#         for idx in range(nb_augmentation):\n",
    "#             print('{}th augmentation for testing ...'.format(idx+1))\n",
    "#             test_preds += test_model.predict_generator(test_generator(df=RFCNbbox_RFCNpred_df, mean=train_mean, datagen=test_aug_datagen), \n",
    "#                                                        val_samples=RFCNbbox_RFCNpred_df.shape[0], nb_worker=1, pickle_safe=False)\n",
    "#         test_preds /= nb_augmentation\n",
    "\n",
    "    columns = ['NoF_CROP', 'ALB_CROP', 'BET_CROP', 'DOL_CROP', 'LAG_CROP', 'OTHER_CROP', 'SHARK_CROP', 'YFT_CROP']\n",
    "    CROPpred_df = pd.DataFrame(test_preds, columns=columns)\n",
    "    RFCNbbox_RFCNpred_CROPpred_HYBRIDpred_df = pd.concat([RFCNbbox_RFCNpred_df,CROPpred_df], axis=1)\n",
    "    \n",
    "    RFCNbbox_RFCNpred_CROPpred_HYBRIDpred_df['NoF'] = RFCNbbox_RFCNpred_CROPpred_HYBRIDpred_df['NoF_RFCN']\n",
    "#     RFCNbbox_RFCNpred_CROPpred_HYBRIDpred_df['FISH'] = RFCNbbox_RFCNpred_CROPpred_HYBRIDpred_df.apply(lambda row: 1-row['NoF_RFCN'], axis=1)\n",
    "    for fish in ['ALB', 'BET', 'DOL', 'LAG', 'OTHER', 'SHARK', 'YFT']:\n",
    "        RFCNbbox_RFCNpred_CROPpred_HYBRIDpred_df[fish] = RFCNbbox_RFCNpred_CROPpred_HYBRIDpred_df.apply(lambda row: (1-row['NoF_RFCN'])*row[[fish+'_CROP']]/(1-row['NoF_CROP']), axis=1)\n",
    "#     RFCNbbox_RFCNpred_CROPpred_HYBRIDpred_df.drop('FISH', axis=1, inplace=True)\n",
    "#     for fish in FISH_CLASSES:\n",
    "#         RFCNbbox_RFCNpred_CROPpred_HYBRIDpred_df[fish] = RFCNbbox_RFCNpred_CROPpred_HYBRIDpred_df[fish+'_CROP']\n",
    "\n",
    "    RFCNbbox_RFCNpred_CROPpred_HYBRIDpred_df.to_pickle(OUTPUT_DIR+file_name) "
   ]
  },
  {
   "cell_type": "code",
   "execution_count": 47,
   "metadata": {
    "collapsed": false
   },
   "outputs": [
    {
     "name": "stdout",
     "output_type": "stream",
     "text": [
      "Generating file test_pred_df_Hybrid_weights.010-0.0533.hdf5_.pickle\n"
     ]
    }
   ],
   "source": [
    "# clsMaxAve and hybrid RFCNpred&CROPpred such that RFCNpred for NoF and CROPpred for fish\n",
    "# test_pred_df = ['logloss','image_class','image_file','NoF', 'ALB', 'BET', 'DOL', 'LAG', 'OTHER', 'SHARK', 'YFT']\n",
    "# RFCNbbox_RFCNpred_CROPpred_HYBRIDpred_df = ['image_class', 'image_file','crop_index','xmin','ymin','xmax','ymax',\n",
    "#                                    'NoF_RFCN', 'ALB_RFCN', 'BET_RFCN', 'DOL_RFCN',\n",
    "#                                    'LAG_RFCN', 'OTHER_RFCN', 'SHARK_RFCN', 'YFT_RFCN',\n",
    "#                                    'ALB_CROP', 'BET_CROP', 'DOL_CROP',\n",
    "#                                    'LAG_CROP', 'OTHER_CROP', 'SHARK_CROP', 'YFT_CROP',\n",
    "#                                    'NoF', 'ALB', 'BET', 'DOL', 'LAG', 'OTHER', 'SHARK', 'YFT']\n",
    "\n",
    "file_name = 'test_pred_df_Hybrid_'+test_model_name+'_.pickle'\n",
    "if os.path.exists(OUTPUT_DIR+file_name):\n",
    "    print ('Loading from file '+file_name)\n",
    "    test_pred_df = pd.read_pickle(OUTPUT_DIR+file_name)\n",
    "else:\n",
    "    print ('Generating file '+file_name)  \n",
    "    with open(\"../RFCN/ImageSets/Main/test.txt\",\"r\") as f:\n",
    "        test_files = f.readlines()\n",
    "    \n",
    "    test_pred_df = pd.DataFrame(columns=['logloss','image_class','image_file','NoF', 'ALB', 'BET', 'DOL', 'LAG', 'OTHER', 'SHARK', 'YFT'])  \n",
    "    for j in range(len(test_files)): \n",
    "        image_file = test_files[j][:-1]+'.jpg'\n",
    "        test_pred_im_df = RFCNbbox_RFCNpred_CROPpred_HYBRIDpred_df.loc[RFCNbbox_RFCNpred_CROPpred_HYBRIDpred_df['image_file'] == image_file,\n",
    "                                                                       ['image_class', 'NoF', 'ALB', 'BET', 'DOL', 'LAG', 'OTHER', 'SHARK', 'YFT']]\n",
    "        image_class = test_pred_im_df.iloc[0]['image_class']\n",
    "        test_pred_im_df.drop('image_class', axis=1, inplace=True)\n",
    "        max_score = test_pred_im_df.max(axis=1)\n",
    "        max_cls = test_pred_im_df.idxmax(axis=1)\n",
    "        test_pred_im_df['max_score'] = max_score\n",
    "        test_pred_im_df['max_cls'] = max_cls\n",
    "        test_pred_im_df['Count'] = test_pred_im_df.groupby(['max_cls'])['max_cls'].transform('count')\n",
    "        idx = test_pred_im_df.groupby(['max_cls'])['max_score'].transform(max) == test_pred_im_df['max_score']\n",
    "        test_pred_im_clsMax_df = test_pred_im_df.loc[idx,['NoF', 'ALB', 'BET', 'DOL', 'LAG', 'OTHER', 'SHARK', 'YFT', 'Count']]\n",
    "        test_pred_im_clsMax_array = test_pred_im_clsMax_df.values\n",
    "        pred = np.average(test_pred_im_clsMax_array[:,:-1], axis=0, weights=test_pred_im_clsMax_array[:,-1], returned=False).tolist()\n",
    "        if image_class!='--':\n",
    "            ind = FISH_CLASSES.index(image_class)\n",
    "            logloss = -math.log(pred[ind]) \n",
    "        else:\n",
    "            logloss = np.nan\n",
    "        test_pred_im_clsMaxAve = [logloss,image_class,image_file]\n",
    "        test_pred_im_clsMaxAve.extend(pred)\n",
    "        test_pred_df.loc[len(test_pred_df)]=test_pred_im_clsMaxAve\n",
    "\n",
    "    test_pred_df.to_pickle(OUTPUT_DIR+file_name) "
   ]
  },
  {
   "cell_type": "code",
   "execution_count": null,
   "metadata": {
    "collapsed": false
   },
   "outputs": [],
   "source": [
    "#### visualization\n",
    "# RFCNbbox_RFCNpred_CROPpred_df = ['image_class', 'image_file','crop_index','x_min','y_min','x_max','ymax',\n",
    "#                                    'NoF_RFCN', 'ALB_RFCN', 'BET_RFCN', 'DOL_RFCN',\n",
    "#                                    'LAG_RFCN', 'OTHER_RFCN', 'SHARK_RFCN', 'YFT_RFCN'\n",
    "#                                    'NoF_CROP', 'ALB_CROP', 'BET_CROP', 'DOL_CROP',\n",
    "#                                    'LAG_CROP', 'OTHER_CROP', 'SHARK_CROP', 'YFT_CROP']\n",
    "#GTbbox_CROPpred_df = ['image_file','crop_index','crop_class','xmin','ymin','xmax','ymax',\n",
    "#                      'NoF', 'ALB', 'BET', 'DOL', 'LAG', 'OTHER', 'SHARK', 'YFT', 'logloss']\n",
    "# test_pred_df = ['logloss','image_class','image_file','NoF', 'ALB', 'BET', 'DOL', 'LAG', 'OTHER', 'SHARK', 'YFT']\n",
    "\n",
    "for j in range(test_pred_df.shape[0]):\n",
    "    image_logloss = test_pred_df.iat[j,0]\n",
    "    image_class = test_pred_df.iat[j,1]\n",
    "    image_file = test_pred_df.iat[j,2]\n",
    "    if image_logloss > 5:\n",
    "        im = Image.open('../RFCN/JPEGImages/'+image_file)\n",
    "        im = np.asarray(im)\n",
    "        fig, ax = plt.subplots(figsize=(10, 8))\n",
    "        ax.imshow(im, aspect='equal')\n",
    "        RFCN_dets = RFCNbbox_RFCNpred_CROPpred_HYBRIDpred_df.loc[RFCNbbox_RFCNpred_CROPpred_HYBRIDpred_df['image_file']==image_file]\n",
    "        for index,row in RFCN_dets.iterrows():\n",
    "            bbox = [row['xmin'],row['ymin'],row['xmax'],row['ymax']]\n",
    "            RFCN = [row['NoF_RFCN'],row['ALB_RFCN'],row['BET_RFCN'],row['DOL_RFCN'],row['LAG_RFCN'],row['OTHER_RFCN'],row['SHARK_RFCN'],row['YFT_RFCN']]\n",
    "            CROP = [row['NoF'],row['ALB'],row['BET'],row['DOL'],row['LAG'],row['OTHER'],row['SHARK'],row['YFT']]\n",
    "            score_RFCN = max(RFCN)\n",
    "            score_CROP = max(CROP)\n",
    "            index_RFCN = RFCN.index(score_RFCN)\n",
    "            index_CROP = CROP.index(score_CROP)\n",
    "            class_RFCN = FISH_CLASSES[index_RFCN]\n",
    "            class_CROP = FISH_CLASSES[index_CROP]\n",
    "            ax.add_patch(plt.Rectangle((bbox[0], bbox[1]), bbox[2] - bbox[0], bbox[3] - bbox[1], fill=False, edgecolor='red', linewidth=2))\n",
    "            ax.text(bbox[0], bbox[1] - 2, 'RFCN_{:s} {:.3f} \\nHYBRID_{:s} {:.3f}'.format(class_RFCN, score_RFCN, class_CROP, score_CROP), bbox=dict(facecolor='red', alpha=0.5), fontsize=8, color='white')       \n",
    "        GT_dets = GTbbox_CROPpred_df.loc[GTbbox_CROPpred_df['image_file']==image_file]\n",
    "        for index,row in GT_dets.iterrows():\n",
    "            bbox = [row['xmin'],row['ymin'],row['xmax'],row['ymax']]\n",
    "            CROP = [row['ALB'],row['BET'],row['DOL'],row['LAG'],row['OTHER'],row['SHARK'],row['YFT']]\n",
    "            score_CROP = max(CROP)\n",
    "            index_CROP = CROP.index(score_CROP)\n",
    "            class_CROP = CROP_CLASSES[index_CROP]\n",
    "            ax.add_patch(plt.Rectangle((bbox[0], bbox[1]), bbox[2] - bbox[0], bbox[3] - bbox[1], fill=False, edgecolor='green', linewidth=2))\n",
    "            ax.text(bbox[0], bbox[3] + 40, 'GT_{:s} \\nCROP_{:s} {:.3f}'.format(row[2], class_CROP, score_CROP), bbox=dict(facecolor='green', alpha=0.5), fontsize=8, color='white')\n",
    "        ax.set_title(('Image {:s}    FISH {:s}    logloss {}').format(image_file, image_class, image_logloss), fontsize=10) \n",
    "        plt.axis('off')\n",
    "        plt.tight_layout()\n",
    "        plt.draw()"
   ]
  },
  {
   "cell_type": "code",
   "execution_count": 48,
   "metadata": {
    "collapsed": false
   },
   "outputs": [
    {
     "name": "stdout",
     "output_type": "stream",
     "text": [
      "image_class\n",
      "--            NaN\n",
      "ALB      0.054244\n",
      "BET      0.153770\n",
      "DOL      0.019470\n",
      "LAG      0.018792\n",
      "NoF      0.126442\n",
      "OTHER    0.070789\n",
      "SHARK    0.079015\n",
      "YFT      0.071676\n",
      "Name: logloss, dtype: float64\n",
      "logloss of train is 0.07254829733068995\n"
     ]
    }
   ],
   "source": [
    "#temperature\n",
    "T = 1\n",
    "test_pred_array = test_pred_df[FISH_CLASSES].values\n",
    "test_pred_T_array = np.exp(np.log(test_pred_array)/T)\n",
    "test_pred_T_array = test_pred_T_array/np.sum(test_pred_T_array, axis=1, keepdims=True)\n",
    "test_pred_T_df = pd.DataFrame(test_pred_T_array, columns=FISH_CLASSES)\n",
    "test_pred_T_df = pd.concat([test_pred_df[['image_class','image_file']],test_pred_T_df], axis=1)\n",
    "\n",
    "#add logloss\n",
    "test_pred_T_df['logloss'] = test_pred_T_df.apply(lambda row: -math.log(row[row['image_class']]) if row['image_class']!='--' else np.nan, axis=1)\n",
    "\n",
    "#calculate train logloss\n",
    "print(test_pred_T_df.groupby(['image_class'])['logloss'].mean())\n",
    "train_logloss = test_pred_T_df['logloss'].mean()\n",
    "print('logloss of train is', train_logloss )"
   ]
  },
  {
   "cell_type": "code",
   "execution_count": null,
   "metadata": {
    "collapsed": true
   },
   "outputs": [],
   "source": [
    "image_class\n",
    "--            NaN\n",
    "ALB      0.067321\n",
    "BET      0.157700\n",
    "DOL      0.041409\n",
    "LAG      0.018016\n",
    "NoF      0.379171\n",
    "OTHER    0.072446\n",
    "SHARK    0.076702\n",
    "YFT      0.078673\n",
    "Name: logloss, dtype: float64\n",
    "logloss of train is 0.11187135488154488"
   ]
  },
  {
   "cell_type": "code",
   "execution_count": 49,
   "metadata": {
    "collapsed": false
   },
   "outputs": [
    {
     "name": "stdout",
     "output_type": "stream",
     "text": [
      "Done!RFCN_AGONOSTICnms_resnet101_rfcn_ohem_iter_30000_resnet50_FT38_Classifier_Rep_clsMaxAve_conf0.80_T1_0.0725.csv\n"
     ]
    }
   ],
   "source": [
    "#test submission\n",
    "submission = test_pred_T_df.loc[:999,['image_file','NoF', 'ALB', 'BET', 'DOL', 'LAG', 'OTHER', 'SHARK', 'YFT']]\n",
    "submission.rename(columns={'image_file':'image'}, inplace=True)\n",
    "sub_file = 'RFCN_AGONOSTICnms_'+RFCN_MODEL+'_'+CROP_MODEL+'_clsMaxAve_conf{:.2f}_T{}_'.format(CONF_THRESH, T)+'{:.4f}'.format(train_logloss)+'.csv'\n",
    "submission.to_csv(sub_file, index=False)\n",
    "print('Done!'+sub_file)"
   ]
  },
  {
   "cell_type": "code",
   "execution_count": null,
   "metadata": {
    "collapsed": true
   },
   "outputs": [],
   "source": []
  }
 ],
 "metadata": {
  "anaconda-cloud": {},
  "kernelspec": {
   "display_name": "Python [conda root]",
   "language": "python",
   "name": "conda-root-py"
  },
  "language_info": {
   "codemirror_mode": {
    "name": "ipython",
    "version": 3
   },
   "file_extension": ".py",
   "mimetype": "text/x-python",
   "name": "python",
   "nbconvert_exporter": "python",
   "pygments_lexer": "ipython3",
   "version": "3.5.2"
  }
 },
 "nbformat": 4,
 "nbformat_minor": 1
}
