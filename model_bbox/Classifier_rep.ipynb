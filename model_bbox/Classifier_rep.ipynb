{
 "cells": [
  {
   "cell_type": "code",
   "execution_count": 1,
   "metadata": {
    "collapsed": false
   },
   "outputs": [
    {
     "name": "stderr",
     "output_type": "stream",
     "text": [
      "Using TensorFlow backend.\n"
     ]
    }
   ],
   "source": [
    "import os, random, glob, pickle, collections, math\n",
    "import numpy as np\n",
    "import pandas as pd\n",
    "import ujson as json\n",
    "from PIL import Image\n",
    "from sklearn.model_selection import train_test_split\n",
    "from sklearn.metrics import log_loss\n",
    "from sklearn.preprocessing import LabelEncoder\n",
    "\n",
    "import matplotlib.pyplot as plt\n",
    "%matplotlib inline \n",
    "\n",
    "from keras.models import Sequential, Model, load_model, model_from_json\n",
    "from keras.layers import GlobalAveragePooling2D, Flatten, Dropout, Dense, LeakyReLU\n",
    "from keras.optimizers import Adam\n",
    "from keras.callbacks import EarlyStopping, ModelCheckpoint, ReduceLROnPlateau, TensorBoard\n",
    "from keras.preprocessing.image import ImageDataGenerator\n",
    "from keras.utils import np_utils\n",
    "from keras.preprocessing import image\n",
    "from keras import backend as K\n",
    "K.set_image_dim_ordering('tf')"
   ]
  },
  {
   "cell_type": "code",
   "execution_count": 53,
   "metadata": {
    "collapsed": false
   },
   "outputs": [],
   "source": [
    "TRAIN_DIR = '../data/train/'\n",
    "TEST_DIR = '../RFCN/JPEGImages/'\n",
    "TRAIN_CROP_DIR = '../data/train_crop/'\n",
    "TEST_CROP_DIR = '../data/test_stg1_crop/'\n",
    "RFCN_MODEL = 'resnet101_rfcn_ohem_iter_30000'\n",
    "CROP_MODEL = 'resnet50_FT38_Classifier_Rep'\n",
    "if not os.path.exists('./' + CROP_MODEL):\n",
    "    os.mkdir('./' + CROP_MODEL)\n",
    "CHECKPOINT_DIR = './' + CROP_MODEL + '/checkpoint/'\n",
    "if not os.path.exists(CHECKPOINT_DIR):\n",
    "    os.mkdir(CHECKPOINT_DIR)\n",
    "LOG_DIR = './' + CROP_MODEL + '/log/'\n",
    "if not os.path.exists(LOG_DIR):\n",
    "    os.mkdir(LOG_DIR)\n",
    "OUTPUT_DIR = './' + CROP_MODEL + '/output/'\n",
    "if not os.path.exists(OUTPUT_DIR):\n",
    "    os.mkdir(OUTPUT_DIR)\n",
    "FISH_CLASSES = ['NoF', 'ALB', 'BET', 'DOL', 'LAG', 'OTHER', 'SHARK', 'YFT']\n",
    "# CROP_CLASSES=FISH_CLASSES[:]\n",
    "# CROP_CLASSES.remove('NoF')\n",
    "CONF_THRESH = 0.8\n",
    "ROWS = 224\n",
    "COLS = 224\n",
    "BATCHSIZE = 128\n",
    "LEARNINGRATE = 1e-4\n",
    "def featurewise_center(x):\n",
    "    mean = np.mean(x, axis=0, keepdims=True)\n",
    "    mean = np.mean(mean, axis=(1,2), keepdims=True)\n",
    "    x_centered = x - mean\n",
    "    return x_centered\n",
    "\n",
    "def mean(x):\n",
    "    mean = np.mean(x, axis=0)\n",
    "    mean = np.mean(mean, axis=(0,1))\n",
    "    return mean\n",
    "\n",
    "def load_img(path, bbox, target_size=None):\n",
    "    img = Image.open(path)\n",
    "#     img = img.convert('RGB')\n",
    "    cropped = img.crop((bbox[0],bbox[1],bbox[2],bbox[3]))\n",
    "    width_cropped, height_cropped = cropped.size\n",
    "    if height_cropped > width_cropped: cropped = cropped.transpose(method=2)\n",
    "    cropped.save('try.jpg')\n",
    "    cropped = Image.open('try.jpg')   \n",
    "    if target_size:\n",
    "        cropped = cropped.resize((target_size[1], target_size[0]), Image.BILINEAR)\n",
    "    return cropped\n",
    "\n",
    "def preprocess_input(x, mean):\n",
    "    #resnet50 image preprocessing\n",
    "#     'RGB'->'BGR'\n",
    "#     x = x[:, :, ::-1]\n",
    "#     x /= 255.\n",
    "    x[:, :, 0] -= mean[0]\n",
    "    x[:, :, 1] -= mean[1]\n",
    "    x[:, :, 2] -= mean[2]\n",
    "    return x\n",
    "\n",
    "def get_best_model(checkpoint_dir = CHECKPOINT_DIR):\n",
    "    files = glob.glob(checkpoint_dir+'*')\n",
    "    val_losses = [float(f.split('-')[-1][:-5]) for f in files]\n",
    "    index = val_losses.index(min(val_losses))\n",
    "    print('Loading model from checkpoint file ' + files[index])\n",
    "    model = load_model(files[index])\n",
    "    model_name = files[index].split('/')[-1]\n",
    "    print('Loading model Done!')\n",
    "    return (model, model_name)"
   ]
  },
  {
   "cell_type": "code",
   "execution_count": 3,
   "metadata": {
    "collapsed": false
   },
   "outputs": [
    {
     "name": "stdout",
     "output_type": "stream",
     "text": [
      "Loading from file GTbbox_df.pickle\n"
     ]
    }
   ],
   "source": [
    "# GTbbox_df = ['image_file','crop_index','crop_class','xmin',''ymin','xmax','ymax']\n",
    "\n",
    "file_name = 'GTbbox_df.pickle'\n",
    "if os.path.exists(OUTPUT_DIR+file_name):\n",
    "    print ('Loading from file '+file_name)\n",
    "    GTbbox_df = pd.read_pickle(OUTPUT_DIR+file_name)\n",
    "else:\n",
    "    print ('Generating file '+file_name)       \n",
    "    GTbbox_df = pd.DataFrame(columns=['image_file','crop_index','crop_class','xmin','ymin','xmax','ymax'])  \n",
    "\n",
    "    crop_classes=FISH_CLASSES[:]\n",
    "    crop_classes.remove('NoF')\n",
    "    \n",
    "    for c in crop_classes:\n",
    "        print(c)\n",
    "        j = json.load(open('../data/BBannotations/{}.json'.format(c), 'r'))\n",
    "        for l in j: \n",
    "            filename = l[\"filename\"]\n",
    "            head, image_file = os.path.split(filename)\n",
    "            basename, file_extension = os.path.splitext(image_file) \n",
    "            image = Image.open(TEST_DIR+'/'+image_file)\n",
    "            width_image, height_image = image.size\n",
    "            for i in range(len(l[\"annotations\"])):\n",
    "                a = l[\"annotations\"][i]\n",
    "                xmin = (a[\"x\"])\n",
    "                ymin = (a[\"y\"])\n",
    "                width = (a[\"width\"])\n",
    "                height = (a[\"height\"])\n",
    "                xmax = xmin + width\n",
    "                ymax = ymin + height\n",
    "                assert max(xmin,0)<min(xmax,width_image)\n",
    "                assert max(ymin,0)<min(ymax,height_image)\n",
    "                GTbbox_df.loc[len(GTbbox_df)]=[image_file,i,a[\"class\"],max(xmin,0),max(ymin,0),min(xmax,width_image),min(ymax,height_image)]\n",
    "                if a[\"class\"] != c: print(GTbbox_df.tail(1))  \n",
    "        \n",
    "        \n",
    "    num_NoF = GTbbox_df.shape[0]*3\n",
    "    RFCN_MODEL = 'resnet101_rfcn_ohem_iter_30000'\n",
    "    with open('../data/RFCN_detections/detections_full_AGNOSTICnms_'+RFCN_MODEL+'.pkl','rb') as f:\n",
    "        detections_full_AGNOSTICnms = pickle.load(f, encoding='latin1') \n",
    "    train_detections_full_AGNOSTICnms = detections_full_AGNOSTICnms[1000:]\n",
    "    with open(\"../RFCN/ImageSets/Main/test.txt\",\"r\") as f:\n",
    "        test_files = f.readlines()\n",
    "    train_files = test_files[1000:]\n",
    "    num_NoF_perIm = math.ceil(num_NoF / len(train_detections_full_AGNOSTICnms))\n",
    "\n",
    "    for im in range(len(train_files)):\n",
    "        image_file = train_files[im][:-1]+'.jpg'\n",
    "        image = Image.open(TEST_DIR+image_file)\n",
    "        width_image, height_image = image.size\n",
    "        detects_im = train_detections_full_AGNOSTICnms[im]\n",
    "        detects_im = detects_im[np.where(detects_im[:,4] >= 0.999)]\n",
    "        bboxes = detects_im[np.random.choice(detects_im.shape[0], num_NoF_perIm, replace=False), :]\n",
    "        for j in range(bboxes.shape[0]):    \n",
    "            bbox = bboxes[j]\n",
    "            xmin = bbox[0]\n",
    "            ymin = bbox[1]\n",
    "            xmax = bbox[2]\n",
    "            ymax = bbox[3]\n",
    "            assert max(xmin,0)<min(xmax,width_image)\n",
    "            assert max(ymin,0)<min(ymax,height_image)\n",
    "            GTbbox_df.loc[len(GTbbox_df)]=[image_file,j,'NoF',max(xmin,0),max(ymin,0),min(xmax,width_image),min(ymax,height_image)]\n",
    "\n",
    "    GTbbox_df.to_pickle(OUTPUT_DIR+file_name)  "
   ]
  },
  {
   "cell_type": "code",
   "execution_count": 4,
   "metadata": {
    "collapsed": false
   },
   "outputs": [
    {
     "data": {
      "image/png": "[encoded data removed]",
      "text/plain": [
       "<PIL.Image.Image image mode=RGB size=224x224 at 0x7FA130A995F8>"
      ]
     },
     "execution_count": 4,
     "metadata": {},
     "output_type": "execute_result"
    }
   ],
   "source": [
    "row = GTbbox_df.loc[959]\n",
    "image_file = row['image_file']\n",
    "fish = row['crop_class']\n",
    "bbox = [row['xmin'],row['ymin'],row['xmax'],row['ymax']]\n",
    "cropped = load_img(TEST_DIR+image_file,bbox,target_size=(ROWS,COLS))\n",
    "cropped"
   ]
  },
  {
   "cell_type": "code",
   "execution_count": 4,
   "metadata": {
    "collapsed": false
   },
   "outputs": [
    {
     "name": "stdout",
     "output_type": "stream",
     "text": [
      "Loading from file data_train_Crop_224_224.pickle\n"
     ]
    }
   ],
   "source": [
    "#compute featuresise_center to add to preprocessing\n",
    "\n",
    "# with open(OUTPUT_DIR+'featurewise_center.pickle', 'rb') as f:\n",
    "#     mean = pickle.load(f)\n",
    "\n",
    "# mean = featurewise_center(X_train_crop)\n",
    "# with open(OUTPUT_DIR+'featurewise_center.pickle', 'wb') as f:\n",
    "#     pickle.dump(mean, f)\n",
    "    \n",
    "file_name = 'data_train_Crop_{}_{}.pickle'.format(ROWS, COLS)\n",
    "if os.path.exists(OUTPUT_DIR+file_name):\n",
    "    print ('Loading from file '+file_name)\n",
    "    with open(OUTPUT_DIR+file_name, 'rb') as f:\n",
    "        data_train = pickle.load(f)\n",
    "    X_train_crop = data_train['X_train_crop']\n",
    "    y_train_crop = data_train['y_train_crop']\n",
    "else:\n",
    "    print ('Generating file '+file_name)\n",
    "\n",
    "    X_train_crop = np.ndarray((GTbbox_df.shape[0], ROWS, COLS, 3), dtype=np.uint8)\n",
    "    y_train_crop = np.zeros((GTbbox_df.shape[0], len(FISH_CLASSES)), dtype=K.floatx())\n",
    "    i = 0\n",
    "    for index,row in GTbbox_df.iterrows():\n",
    "        image_file = row['image_file']\n",
    "        fish = row['crop_class']\n",
    "        bbox = [row['xmin'],row['ymin'],row['xmax'],row['ymax']]\n",
    "        cropped = load_img(TEST_DIR+image_file,bbox,target_size=(ROWS,COLS))\n",
    "        X_train_crop[i] = np.asarray(cropped)\n",
    "        y_train_crop[i,FISH_CLASSES.index(fish)] = 1\n",
    "        i += 1\n",
    "   \n",
    "    #save data to file\n",
    "    data_train = {'X_train_crop': X_train_crop,'y_train_crop': y_train_crop}\n",
    "    with open(OUTPUT_DIR+file_name, 'wb') as f:\n",
    "        pickle.dump(data_train, f)\n",
    "        \n",
    "print('Loading data done.')\n",
    "X_train_crop = X_train_crop.astype(np.float32)\n",
    "print('Convert to float32 done.')\n",
    "X_train_crop /= 255.\n",
    "print('Rescale by 255 done.')\n",
    "# #traing stg1 and stg2 and resume should have the same train test split!!! Remenber to set the random_state!\n",
    "# X_train, X_valid, y_train, y_valid = train_test_split(X_train_crop, y_train_crop, test_size=0.2, random_state=1986, stratify=y_train_crop)"
   ]
  },
  {
   "cell_type": "code",
   "execution_count": null,
   "metadata": {
    "collapsed": false
   },
   "outputs": [],
   "source": [
    "# #class weight = n_samples / (n_classes * np.bincount(y))\n",
    "# class_weight_fish = dict(GTbbox_df.groupby('crop_class').size())\n",
    "# class_weight = {}\n",
    "# n_samples = GTbbox_df.shape[0]\n",
    "# for key,value in class_weight_fish.items():\n",
    "#         class_weight[CROP_CLASSES.index(key)] = n_samples / (len(CROP_CLASSES)*value)\n",
    "# class_weight\n",
    "\n",
    "class_weight_fish = dict(GTbbox_df.groupby('crop_class').size())\n",
    "class_weight = {}\n",
    "ref = max(class_weight_fish.values())\n",
    "for key,value in class_weight_fish.items():\n",
    "    class_weight[FISH_CLASSES.index(key)] = ref/value\n",
    "class_weight"
   ]
  },
  {
   "cell_type": "code",
   "execution_count": null,
   "metadata": {
    "collapsed": false
   },
   "outputs": [],
   "source": [
    "#data preprocessing\n",
    "\n",
    "train_datagen = ImageDataGenerator(\n",
    "    featurewise_center=True,\n",
    "    rotation_range=180,\n",
    "    shear_range=0.2,\n",
    "    zoom_range=0.1,\n",
    "    width_shift_range=0.1,\n",
    "    height_shift_range=0.1,\n",
    "    horizontal_flip=True,\n",
    "    vertical_flip=True)\n",
    "train_datagen.fit(X_train)\n",
    "train_generator = train_datagen.flow(X_train, y_train, batch_size=BATCHSIZE, shuffle=True, seed=None)\n",
    "\n",
    "valid_datagen = ImageDataGenerator(featurewise_center=True)\n",
    "valid_datagen.fit(X_valid) \n",
    "valid_generator = valid_datagen.flow(X_valid, y_valid, batch_size=BATCHSIZE, shuffle=True, seed=None)"
   ]
  },
  {
   "cell_type": "raw",
   "metadata": {
    "collapsed": false
   },
   "source": [
    "%%time\n",
    "# train data prepare\n",
    "# GTbbox_df = ['image_file','crop_index','crop_class','xmin',''ymin','xmax','ymax']\n",
    "\n",
    "train_df, valid_df = train_test_split(GTbbox_df, test_size=0.2, random_state=1986, stratify=GTbbox_df['crop_class'])\n",
    "\n",
    "# nb_fish = math.ceil(BATCHSIZE / len(CROP_CLASSES))\n",
    "# samples_per_epoch=BATCHSIZE*math.ceil(train_df.groupby('crop_class').size()['ALB']/nb_fish)\n",
    "  \n",
    "train_datagen = ImageDataGenerator(\n",
    "    rotation_range=180,\n",
    "    shear_range=0.2,\n",
    "    zoom_range=0.1,\n",
    "    width_shift_range=0.1,\n",
    "    height_shift_range=0.1,\n",
    "    horizontal_flip=True,\n",
    "    vertical_flip=True)\n",
    "\n",
    "def train_generator(datagen, df):\n",
    "    n = df.shape[0]\n",
    "    batch_index = 0\n",
    "    while 1:\n",
    "        if batch_index == 0:\n",
    "            index_array = np.random.permutation(n)\n",
    "\n",
    "        current_index = (batch_index * BATCHSIZE) % n\n",
    "        if n >= current_index + BATCHSIZE:\n",
    "            current_batch_size = BATCHSIZE\n",
    "            batch_index += 1\n",
    "        else:\n",
    "            current_batch_size = n - current_index\n",
    "            batch_index = 0\n",
    "        \n",
    "        batch_x = np.zeros((current_batch_size, ROWS, COLS, 3), dtype=K.floatx())\n",
    "        batch_y = np.zeros((current_batch_size, len(FISH_CLASSES)), dtype=K.floatx())\n",
    "#         fn = lambda obj: obj.loc[np.random.choice(obj.index, size=nb_fish, replace=False),:]\n",
    "#         batch_df = df.groupby('crop_class', as_index=True).apply(fn)\n",
    "        batch_df = df.iloc[index_array[current_index: current_index + current_batch_size],:]\n",
    "        i = 0\n",
    "        for index,row in batch_df.iterrows():\n",
    "            image_file = row['image_file']\n",
    "            fish = row['crop_class']\n",
    "            bbox = [row['xmin'],row['ymin'],row['xmax'],row['ymax']]\n",
    "            cropped = load_img(TEST_DIR+image_file,bbox,target_size=(ROWS,COLS))\n",
    "            x = np.asarray(cropped, dtype=K.floatx())\n",
    "            x = datagen.random_transform(x)\n",
    "            x = preprocess_input(x, mean)\n",
    "            batch_x[i] = x\n",
    "            batch_y[i,FISH_CLASSES.index(fish)] = 1\n",
    "            i += 1\n",
    "        yield batch_x, batch_y\n",
    "\n",
    "# validation_data (valid_x,valid_y)\n",
    "valid_x = np.zeros((valid_df.shape[0], ROWS, COLS, 3), dtype=K.floatx())\n",
    "valid_y = np.zeros((valid_df.shape[0], len(FISH_CLASSES)), dtype=K.floatx())\n",
    "i = 0\n",
    "for index,row in valid_df.iterrows():\n",
    "    image_file = row['image_file']\n",
    "    fish = row['crop_class']\n",
    "    bbox = [row['xmin'],row['ymin'],row['xmax'],row['ymax']]\n",
    "    cropped = load_img(TEST_DIR+image_file,bbox,target_size=(ROWS,COLS))\n",
    "    x = np.asarray(cropped, dtype=K.floatx())\n",
    "    x = preprocess_input(x, mean)\n",
    "    valid_x[i] = x\n",
    "    valid_y[i,FISH_CLASSES.index(fish)] = 1\n",
    "    i += 1\n"
   ]
  },
  {
   "cell_type": "code",
   "execution_count": null,
   "metadata": {
    "collapsed": true
   },
   "outputs": [],
   "source": [
    "#callbacks\n",
    "\n",
    "early_stopping = EarlyStopping(monitor='val_loss', min_delta=0, patience=10, verbose=1, mode='auto')        \n",
    "\n",
    "model_checkpoint = ModelCheckpoint(filepath=CHECKPOINT_DIR+'weights.{epoch:03d}-{val_loss:.4f}.hdf5', monitor='val_loss', verbose=1, save_best_only=True, save_weights_only=False, mode='auto')\n",
    "        \n",
    "learningrate_schedule = ReduceLROnPlateau(monitor='val_loss', factor=0.1, patience=5, verbose=1, mode='auto', epsilon=0.001, cooldown=0, min_lr=0)\n",
    "\n",
    "tensorboard = TensorBoard(log_dir=LOG_DIR, histogram_freq=0, write_graph=False, write_images=True)\n"
   ]
  },
  {
   "cell_type": "code",
   "execution_count": null,
   "metadata": {
    "collapsed": false,
    "scrolled": true
   },
   "outputs": [],
   "source": [
    "#Resnet50\n",
    "#top layer training\n",
    "\n",
    "from keras.applications.resnet50 import ResNet50\n",
    "\n",
    "base_model = ResNet50(weights='imagenet', include_top=False)\n",
    "x = base_model.output\n",
    "x = GlobalAveragePooling2D()(x)\n",
    "# x = Flatten()(x)\n",
    "# x = Dense(256, init='glorot_normal', activation='relu')(x)\n",
    "# x = LeakyReLU(alpha=0.33)(x)\n",
    "# x = Dropout(0.5)(x)\n",
    "# x = Dense(256, init='glorot_normal', activation='relu')(x)\n",
    "# x = Dense(256, init='glorot_normal')(x)\n",
    "# x = LeakyReLU(alpha=0.33)(x)\n",
    "# x = Dropout(0.5)(x)\n",
    "predictions = Dense(len(FISH_CLASSES), init='glorot_normal', activation='softmax')(x)\n",
    "\n",
    "model = Model(input=base_model.input, output=predictions)\n",
    "\n",
    "# first: train only the top layers (which were randomly initialized)\n",
    "for layer in base_model.layers:\n",
    "    layer.trainable = False\n",
    "\n",
    "# compile the model (should be done *after* setting layers to non-trainable)\n",
    "optimizer = Adam(lr=LEARNINGRATE)\n",
    "model.compile(optimizer=optimizer, loss='categorical_crossentropy', metrics=['accuracy'])\n",
    "\n",
    "# train the model on the new data for a few epochs\n",
    "model.fit_generator(train_generator, samples_per_epoch=len(X_train), nb_epoch=30, verbose=1, \n",
    "                    callbacks=[early_stopping, model_checkpoint, learningrate_schedule, tensorboard], \n",
    "                    validation_data=valid_generator, nb_val_samples=len(X_valid), class_weight=class_weight, nb_worker=3, pickle_safe=True)"
   ]
  },
  {
   "cell_type": "code",
   "execution_count": null,
   "metadata": {
    "collapsed": false,
    "scrolled": false
   },
   "outputs": [],
   "source": [
    "# Resnet50\n",
    "# fine tuning\n",
    "# 164 conv5c+top\n",
    "# 142 conv5+top\n",
    "# 80 conv4+conv5+top\n",
    "# 38 conv3+conv4+conv5+top\n",
    "start_layer = 38\n",
    "\n",
    "model, model_name = get_best_model()\n",
    "# print('Loading model from weights.004-0.0565.hdf5')\n",
    "# model = load_model('./checkpoints/checkpoint3/weights.004-0.0565.hdf5')\n",
    "\n",
    "for layer in model.layers[:start_layer]:\n",
    "   layer.trainable = False\n",
    "for layer in model.layers[start_layer:]:\n",
    "   layer.trainable = True\n",
    "\n",
    "# we need to recompile the model for these modifications to take effect\n",
    "# we use SGD with a low learning rate\n",
    "optimizer = Adam(lr=1e-5)\n",
    "model.compile(optimizer=optimizer, loss='categorical_crossentropy', metrics=['accuracy'])\n",
    "\n",
    "model.fit_generator(train_generator, samples_per_epoch=len(X_train), nb_epoch=300, verbose=1, \n",
    "                    callbacks=[early_stopping, model_checkpoint, learningrate_schedule, tensorboard], \n",
    "                    validation_data=valid_generator, nb_val_samples=len(X_valid), class_weight=class_weight, nb_worker=3, pickle_safe=True)"
   ]
  },
  {
   "cell_type": "code",
   "execution_count": null,
   "metadata": {
    "collapsed": false
   },
   "outputs": [],
   "source": [
    "#resume training\n",
    "\n",
    "model, model_name = get_best_model()\n",
    "# print('Loading model from weights.004-0.0565.hdf5')\n",
    "# model = load_model('./checkpoints/checkpoint3/weights.004-0.0565.hdf5')\n",
    "\n",
    "model.fit_generator(train_generator, samples_per_epoch=len(X_train), nb_epoch=100, verbose=1, \n",
    "                    callbacks=[early_stopping, model_checkpoint, learningrate_schedule, tensorboard], \n",
    "                    validation_data=valid_generator, nb_val_samples=len(X_valid), class_weight=class_weight, nb_worker=3, pickle_safe=True)"
   ]
  },
  {
   "cell_type": "code",
   "execution_count": 16,
   "metadata": {
    "collapsed": false
   },
   "outputs": [
    {
     "name": "stdout",
     "output_type": "stream",
     "text": [
      "Loading model from checkpoint file ./resnet50_FT38_CW_STGTrain/checkpoint/weights.000-0.0327.hdf5\n",
      "Loading model Done!\n"
     ]
    }
   ],
   "source": [
    "#test prepare\n",
    "\n",
    "test_model, test_model_name = get_best_model(checkpoint_dir='./resnet50_FT38_CW_STGTrain/checkpoint/')\n",
    "# print('Loading model from weights.004-0.0565.hdf5')\n",
    "# test_model = load_model('./checkpoints/checkpoint2/weights.004-0.0565.hdf5')\n",
    "\n",
    "def test_generator(df, mean, datagen = None, batch_size = BATCHSIZE):\n",
    "    n = df.shape[0]\n",
    "    batch_index = 0\n",
    "    while 1:\n",
    "        current_index = batch_index * batch_size\n",
    "        if n >= current_index + batch_size:\n",
    "            current_batch_size = batch_size\n",
    "            batch_index += 1    \n",
    "        else:\n",
    "            current_batch_size = n - current_index\n",
    "            batch_index = 0        \n",
    "        batch_df = df[current_index:current_index+current_batch_size]\n",
    "        batch_x = np.zeros((batch_df.shape[0], ROWS, COLS, 3), dtype=K.floatx())\n",
    "        i = 0\n",
    "        for index,row in batch_df.iterrows():\n",
    "            image_file = row['image_file']\n",
    "            bbox = [row['xmin'],row['ymin'],row['xmax'],row['ymax']]\n",
    "            cropped = load_img(TEST_DIR+image_file,bbox,target_size=(ROWS,COLS))\n",
    "            x = np.asarray(cropped, dtype=K.floatx())\n",
    "            x /= 255.\n",
    "            if datagen is not None: x = datagen.random_transform(x)            \n",
    "            x = preprocess_input(x, mean)\n",
    "            batch_x[i] = x\n",
    "            i += 1\n",
    "        if batch_index%50 == 0: print('batch_index', batch_index)\n",
    "        yield(batch_x)\n",
    "        \n",
    "test_aug_datagen = ImageDataGenerator(\n",
    "    rotation_range=180,\n",
    "    shear_range=0.2,\n",
    "    zoom_range=0.1,\n",
    "    width_shift_range=0.1,\n",
    "    height_shift_range=0.1,\n",
    "    horizontal_flip=True,\n",
    "    vertical_flip=True)"
   ]
  },
  {
   "cell_type": "code",
   "execution_count": 17,
   "metadata": {
    "collapsed": false
   },
   "outputs": [],
   "source": [
    "train_mean = [0.37698776,  0.41491762,  0.38681713]"
   ]
  },
  {
   "cell_type": "code",
   "execution_count": null,
   "metadata": {
    "collapsed": false
   },
   "outputs": [],
   "source": [
    "train_mean = train_datagen.mean\n",
    "valid_mean = valid_datagen.mean\n",
    "X_train_centered = featurewise_center(X_train)\n",
    "X_valid_centered = featurewise_center(X_valid)"
   ]
  },
  {
   "cell_type": "code",
   "execution_count": null,
   "metadata": {
    "collapsed": false
   },
   "outputs": [],
   "source": [
    "#validation data fish logloss\n",
    " \n",
    "valid_pred = test_model.predict(X_valid_centered, batch_size=BATCHSIZE, verbose=1)\n",
    "# valid_pred = test_model.predict_generator(test_generator(df=valid_df, mean=valid_mean),\n",
    "#                                           val_samples=valid_df.shape[0], nb_worker=1, pickle_safe=False)\n",
    "valid_logloss_df = pd.DataFrame(columns=['logloss','class'])\n",
    "for i in range(y_valid.shape[0]):\n",
    "    index = np.argmax(y_valid[i,:])\n",
    "    fish = FISH_CLASSES[index]\n",
    "    logloss = -math.log(valid_pred[i,index])\n",
    "    valid_logloss_df.loc[len(valid_logloss_df)]=[logloss,fish]                                       \n",
    "print(valid_logloss_df.groupby(['class'])['logloss'].mean())\n",
    "print(valid_logloss_df['logloss'].mean())\n",
    "\n",
    "train_pred = test_model.predict(X_train_centered, batch_size=BATCHSIZE, verbose=1)\n",
    "# train_pred = test_model.predict_generator(test_generator(df=train_df, ),\n",
    "#                                           val_samples=train_df.shape[0], nb_worker=1, pickle_safe=False)\n",
    "train_logloss_df = pd.DataFrame(columns=['logloss','class'])\n",
    "for i in range(y_train.shape[0]):\n",
    "    index = np.argmax(y_train[i,:])\n",
    "    fish = FISH_CLASSES[index]\n",
    "    logloss = -math.log(train_pred[i,index])\n",
    "    train_logloss_df.loc[len(train_logloss_df)]=[logloss,fish]                                       \n",
    "print(train_logloss_df.groupby(['class'])['logloss'].mean())\n",
    "print(train_logloss_df['logloss'].mean())"
   ]
  },
  {
   "cell_type": "code",
   "execution_count": 19,
   "metadata": {
    "collapsed": false
   },
   "outputs": [
    {
     "name": "stdout",
     "output_type": "stream",
     "text": [
      "Generating file GTbbox_CROPpred_df_weights.000-0.0327.hdf5_.pickle\n",
      "batch_index 50\n",
      "batch_index 100\n",
      "batch_index 150\n",
      "batch_index 0\n",
      "crop_class\n",
      "ALB      0.076577\n",
      "BET      0.139025\n",
      "DOL      0.126520\n",
      "LAG      0.000761\n",
      "NoF      0.051943\n",
      "OTHER    0.133949\n",
      "SHARK    0.018328\n",
      "YFT      0.090739\n",
      "Name: logloss, dtype: float64\n",
      "0.05936252678272253\n"
     ]
    }
   ],
   "source": [
    "#GTbbox_CROPpred_df = ['image_file','crop_index','crop_class','xmin','ymin','xmax','ymax',\n",
    "#                      'NoF', 'ALB', 'BET', 'DOL', 'LAG', 'OTHER', 'SHARK', 'YFT', 'logloss']\n",
    "\n",
    "file_name = 'GTbbox_CROPpred_df_'+test_model_name+'_.pickle'\n",
    "if os.path.exists(OUTPUT_DIR+file_name):\n",
    "    print ('Loading from file '+file_name)\n",
    "    GTbbox_CROPpred_df = pd.read_pickle(OUTPUT_DIR+file_name)\n",
    "else:\n",
    "    print ('Generating file '+file_name) \n",
    "    nb_augmentation = 1\n",
    "    if nb_augmentation ==1:\n",
    "        test_preds = test_model.predict_generator(test_generator(df=GTbbox_df, mean=train_mean), \n",
    "                                                  val_samples=GTbbox_df.shape[0], nb_worker=1, pickle_safe=False)\n",
    "    else:\n",
    "        test_preds = np.zeros((GTbbox_df.shape[0], len(FISH_CLASSES)), dtype=K.floatx())\n",
    "        for idx in range(nb_augmentation):\n",
    "            print('{}th augmentation for testing ...'.format(idx+1))\n",
    "            test_preds += test_model.predict_generator(test_generator(df=GTbbox_df, mean=train_mean, datagen=test_aug_datagen), \n",
    "                                                       val_samples=GTbbox_df.shape[0], nb_worker=1, pickle_safe=False)\n",
    "        test_preds /= nb_augmentation\n",
    "\n",
    "    CROPpred_df = pd.DataFrame(test_preds, columns=['ALB', 'BET', 'DOL', 'LAG', 'NoF', 'OTHER', 'SHARK', 'YFT'])\n",
    "    GTbbox_CROPpred_df = pd.concat([GTbbox_df,CROPpred_df], axis=1)\n",
    "    GTbbox_CROPpred_df['logloss'] = GTbbox_CROPpred_df.apply(lambda row: -math.log(row[row['crop_class']]), axis=1)\n",
    "    GTbbox_CROPpred_df.to_pickle(OUTPUT_DIR+file_name) \n",
    "\n",
    "#logloss of every fish class\n",
    "print(GTbbox_CROPpred_df.groupby(['crop_class'])['logloss'].mean())\n",
    "print(GTbbox_CROPpred_df['logloss'].mean())"
   ]
  },
  {
   "cell_type": "code",
   "execution_count": null,
   "metadata": {
    "collapsed": true
   },
   "outputs": [],
   "source": [
    "ALB      0.077599\n",
    "BET      0.137985\n",
    "DOL      0.127548\n",
    "LAG      0.000765\n",
    "NoF      0.052039\n",
    "OTHER    0.103720\n",
    "SHARK    0.035872\n",
    "YFT      0.088832\n",
    "Name: logloss, dtype: float64\n",
    "0.059134145372682786"
   ]
  },
  {
   "cell_type": "code",
   "execution_count": 52,
   "metadata": {
    "collapsed": false
   },
   "outputs": [
    {
     "name": "stdout",
     "output_type": "stream",
     "text": [
      "Loading from file RFCNbbox_RFCNpred_df_conf0.80.pickle\n"
     ]
    }
   ],
   "source": [
    "# RFCNbbox_RFCNpred_df = ['image_class','image_file','crop_index','xmin','ymin','xmax','ymax',\n",
    "#                          'NoF_RFCN', 'ALB_RFCN', 'BET_RFCN', 'DOL_RFCN',\n",
    "#                          'LAG_RFCN', 'OTHER_RFCN', 'SHARK_RFCN', 'YFT_RFCN']\n",
    "# select fish_conf >= CONF_THRESH\n",
    "\n",
    "file_name = 'RFCNbbox_RFCNpred_df_conf{:.2f}.pickle'.format(CONF_THRESH)\n",
    "if os.path.exists(OUTPUT_DIR+file_name):\n",
    "    print ('Loading from file '+file_name)\n",
    "    RFCNbbox_RFCNpred_df = pd.read_pickle(OUTPUT_DIR+file_name)\n",
    "else:\n",
    "    print ('Generating file '+file_name)        \n",
    "    RFCNbbox_RFCNpred_df = pd.DataFrame(columns=['image_class','image_file','crop_index','xmin','ymin','xmax','ymax',\n",
    "                                                  'NoF_RFCN', 'ALB_RFCN', 'BET_RFCN', 'DOL_RFCN',\n",
    "                                                  'LAG_RFCN', 'OTHER_RFCN', 'SHARK_RFCN', 'YFT_RFCN']) \n",
    "\n",
    "    with open('../data/RFCN_detections/detections_full_AGNOSTICnms_'+RFCN_MODEL+'.pkl','rb') as f:\n",
    "        detections_full_AGNOSTICnms = pickle.load(f, encoding='latin1') \n",
    "    with open(\"../RFCN/ImageSets/Main/test.txt\",\"r\") as f:\n",
    "        test_files = f.readlines()\n",
    "    with open(\"../RFCN/ImageSets/Main/train_test.txt\",\"r\") as f:\n",
    "        train_file_labels = f.readlines()\n",
    "    assert len(detections_full_AGNOSTICnms) == len(test_files)\n",
    "    \n",
    "    count = np.zeros(len(detections_full_AGNOSTICnms))\n",
    "    \n",
    "    for im in range(len(detections_full_AGNOSTICnms)):\n",
    "        if im%1000 == 0: print(im)\n",
    "        basename = test_files[im][:9]\n",
    "        if im<1000:\n",
    "            image_class = '--'\n",
    "        else:\n",
    "            for i in range(len(train_file_labels)):\n",
    "                if train_file_labels[i][:9] == basename:\n",
    "                    image_class = train_file_labels[i][10:-1]\n",
    "                    break\n",
    "        image = Image.open(TEST_DIR+'/'+basename+'.jpg')\n",
    "        width_image, height_image = image.size\n",
    "        \n",
    "        bboxes = []\n",
    "        detects_im = detections_full_AGNOSTICnms[im]\n",
    "        for i in range(len(detects_im)):\n",
    "#             if np.sum(detects_im[i,5:]) >= CONF_THRESH:\n",
    "            if np.max(detects_im[i,5:]) >= CONF_THRESH:\n",
    "                bboxes.append(detects_im[i,:]) \n",
    "        count[im] = len(bboxes)\n",
    "        if len(bboxes) == 0:\n",
    "            ind = np.argmax(np.sum(detects_im[:,5:], axis=1))\n",
    "            bboxes.append(detects_im[ind,:])\n",
    "        bboxes = np.asarray(bboxes)\n",
    "\n",
    "        for j in range(len(bboxes)):    \n",
    "            bbox = bboxes[j]\n",
    "            xmin = bbox[0]\n",
    "            ymin = bbox[1]\n",
    "            xmax = bbox[2]\n",
    "            ymax = bbox[3]\n",
    "            assert max(xmin,0)<min(xmax,width_image)\n",
    "            assert max(ymin,0)<min(ymax,height_image)\n",
    "            RFCNbbox_RFCNpred_df.loc[len(RFCNbbox_RFCNpred_df)]=[image_class,basename+'.jpg',j,max(xmin,0),max(ymin,0),\n",
    "                                                                   min(xmax,width_image),min(ymax,height_image),\n",
    "                                                                   bbox[4],bbox[5],bbox[6],bbox[7],bbox[8],bbox[9],bbox[10],bbox[11]]   \n",
    "    \n",
    "    RFCNbbox_RFCNpred_df.to_pickle(OUTPUT_DIR+file_name)      "
   ]
  },
  {
   "cell_type": "code",
   "execution_count": 54,
   "metadata": {
    "collapsed": true
   },
   "outputs": [],
   "source": [
    "test_mean = [0.41019869,  0.43978861,  0.39873621]"
   ]
  },
  {
   "cell_type": "code",
   "execution_count": 57,
   "metadata": {
    "collapsed": false
   },
   "outputs": [
    {
     "name": "stdout",
     "output_type": "stream",
     "text": [
      "Generating file RFCNbbox_RFCNpred_CROPpred_HYBRIDpred_df_weights.000-0.0327.hdf5_.pickle\n"
     ]
    }
   ],
   "source": [
    "# RFCNbbox_RFCNpred_CROPpred_HYBRIDpred_df = ['image_class', 'image_file','crop_index','xmin','ymin','xmax','ymax',\n",
    "#                                    'NoF_RFCN', 'ALB_RFCN', 'BET_RFCN', 'DOL_RFCN',\n",
    "#                                    'LAG_RFCN', 'OTHER_RFCN', 'SHARK_RFCN', 'YFT_RFCN',\n",
    "#                                    'NoF_CROP', 'ALB_CROP', 'BET_CROP', 'DOL_CROP',\n",
    "#                                    'LAG_CROP', 'OTHER_CROP', 'SHARK_CROP', 'YFT_CROP',\n",
    "#                                    'NoF', 'ALB', 'BET', 'DOL', 'LAG', 'OTHER', 'SHARK', 'YFT']\n",
    "\n",
    "file_name = 'RFCNbbox_RFCNpred_CROPpred_HYBRIDpred_df_'+test_model_name+'_.pickle'\n",
    "if os.path.exists(OUTPUT_DIR+file_name):\n",
    "    print ('Loading from file '+file_name)\n",
    "    RFCNbbox_RFCNpred_CROPpred_HYBRIDpred_df = pd.read_pickle(OUTPUT_DIR+file_name)\n",
    "else:\n",
    "    print ('Generating file '+file_name)  \n",
    "#     nb_augmentation = 1\n",
    "#     if nb_augmentation ==1:\n",
    "#         test_preds = test_model.predict_generator(test_generator(df=RFCNbbox_RFCNpred_df, mean=test_mean), \n",
    "#                                                   val_samples=RFCNbbox_RFCNpred_df.shape[0], nb_worker=1, pickle_safe=False)\n",
    "#     else:\n",
    "#         test_preds = np.zeros((RFCNbbox_RFCNpred_df.shape[0], len(FISH_CLASSES)), dtype=K.floatx())\n",
    "#         for idx in range(nb_augmentation):\n",
    "#             print('{}th augmentation for testing ...'.format(idx+1))\n",
    "#             test_preds += test_model.predict_generator(test_generator(df=RFCNbbox_RFCNpred_df, mean=test_mean, datagen=test_aug_datagen), \n",
    "#                                                        val_samples=RFCNbbox_RFCNpred_df.shape[0], nb_worker=1, pickle_safe=False)\n",
    "#         test_preds /= nb_augmentation\n",
    "\n",
    "    CROPpred_df = pd.DataFrame(test_preds, columns=['ALB_CROP', 'BET_CROP', 'DOL_CROP', 'LAG_CROP', 'NoF_CROP', 'OTHER_CROP', 'SHARK_CROP', 'YFT_CROP'])\n",
    "    RFCNbbox_RFCNpred_CROPpred_HYBRIDpred_df = pd.concat([RFCNbbox_RFCNpred_df,CROPpred_df], axis=1)\n",
    "    \n",
    "#     RFCNbbox_RFCNpred_CROPpred_HYBRIDpred_df['NoF'] = RFCNbbox_RFCNpred_CROPpred_HYBRIDpred_df['NoF_RFCN']\n",
    "#     for fish in ['ALB', 'BET', 'DOL', 'LAG', 'OTHER', 'SHARK', 'YFT']:\n",
    "#         RFCNbbox_RFCNpred_CROPpred_HYBRIDpred_df[fish] = RFCNbbox_RFCNpred_CROPpred_HYBRIDpred_df.apply(lambda row: (1-row['NoF_RFCN'])*row[[fish+'_CROP']]/(1-row['NoF_CROP']) if row['NoF_CROP']!=1 else 0, axis=1)\n",
    "    for fish in FISH_CLASSES:\n",
    "        RFCNbbox_RFCNpred_CROPpred_HYBRIDpred_df[fish] = RFCNbbox_RFCNpred_CROPpred_HYBRIDpred_df[fish+'_CROP']\n",
    "\n",
    "    RFCNbbox_RFCNpred_CROPpred_HYBRIDpred_df.to_pickle(OUTPUT_DIR+file_name) "
   ]
  },
  {
   "cell_type": "code",
   "execution_count": 60,
   "metadata": {
    "collapsed": false
   },
   "outputs": [
    {
     "name": "stdout",
     "output_type": "stream",
     "text": [
      "Generating file test_pred_df_Hybrid_weights.000-0.0327.hdf5_.pickle\n"
     ]
    }
   ],
   "source": [
    "# clsMaxAve and hybrid RFCNpred&CROPpred such that RFCNpred for NoF and CROPpred for fish\n",
    "# test_pred_df = ['logloss','image_class','image_file','NoF', 'ALB', 'BET', 'DOL', 'LAG', 'OTHER', 'SHARK', 'YFT']\n",
    "# RFCNbbox_RFCNpred_CROPpred_HYBRIDpred_df = ['image_class', 'image_file','crop_index','xmin','ymin','xmax','ymax',\n",
    "#                                    'NoF_RFCN', 'ALB_RFCN', 'BET_RFCN', 'DOL_RFCN',\n",
    "#                                    'LAG_RFCN', 'OTHER_RFCN', 'SHARK_RFCN', 'YFT_RFCN',\n",
    "#                                    'ALB_CROP', 'BET_CROP', 'DOL_CROP',\n",
    "#                                    'LAG_CROP', 'OTHER_CROP', 'SHARK_CROP', 'YFT_CROP',\n",
    "#                                    'NoF', 'ALB', 'BET', 'DOL', 'LAG', 'OTHER', 'SHARK', 'YFT']\n",
    "\n",
    "file_name = 'test_pred_df_Hybrid_'+test_model_name+'_.pickle'\n",
    "if os.path.exists(OUTPUT_DIR+file_name):\n",
    "    print ('Loading from file '+file_name)\n",
    "    test_pred_df = pd.read_pickle(OUTPUT_DIR+file_name)\n",
    "else:\n",
    "    print ('Generating file '+file_name)  \n",
    "    with open(\"../RFCN/ImageSets/Main/test.txt\",\"r\") as f:\n",
    "        test_files = f.readlines()\n",
    "    \n",
    "    test_pred_df = pd.DataFrame(columns=['logloss','image_class','image_file','NoF', 'ALB', 'BET', 'DOL', 'LAG', 'OTHER', 'SHARK', 'YFT'])  \n",
    "    for j in range(len(test_files)): \n",
    "        image_file = test_files[j][:-1]+'.jpg'\n",
    "        test_pred_im_df = RFCNbbox_RFCNpred_CROPpred_HYBRIDpred_df.loc[RFCNbbox_RFCNpred_CROPpred_HYBRIDpred_df['image_file'] == image_file,\n",
    "                                                                       ['image_class', 'NoF', 'ALB', 'BET', 'DOL', 'LAG', 'OTHER', 'SHARK', 'YFT']]\n",
    "        image_class = test_pred_im_df.iloc[0]['image_class']\n",
    "        test_pred_im_df.drop('image_class', axis=1, inplace=True)\n",
    "        max_score = test_pred_im_df.max(axis=1)\n",
    "        max_cls = test_pred_im_df.idxmax(axis=1)\n",
    "        test_pred_im_df['max_score'] = max_score\n",
    "        test_pred_im_df['max_cls'] = max_cls\n",
    "        test_pred_im_df['Count'] = test_pred_im_df.groupby(['max_cls'])['max_cls'].transform('count')\n",
    "        idx = test_pred_im_df.groupby(['max_cls'])['max_score'].transform(max) == test_pred_im_df['max_score']\n",
    "        test_pred_im_clsMax_df = test_pred_im_df.loc[idx,['NoF', 'ALB', 'BET', 'DOL', 'LAG', 'OTHER', 'SHARK', 'YFT', 'Count']]\n",
    "        test_pred_im_clsMax_array = test_pred_im_clsMax_df.values\n",
    "        pred = np.average(test_pred_im_clsMax_array[:,:-1], axis=0, weights=test_pred_im_clsMax_array[:,-1], returned=False).tolist()\n",
    "        if image_class!='--':\n",
    "            ind = FISH_CLASSES.index(image_class)\n",
    "            logloss = -math.log(pred[ind]) \n",
    "        else:\n",
    "            logloss = np.nan\n",
    "        test_pred_im_clsMaxAve = [logloss,image_class,image_file]\n",
    "        test_pred_im_clsMaxAve.extend(pred)\n",
    "        test_pred_df.loc[len(test_pred_df)]=test_pred_im_clsMaxAve\n",
    "\n",
    "    test_pred_df.to_pickle(OUTPUT_DIR+file_name) "
   ]
  },
  {
   "cell_type": "code",
   "execution_count": null,
   "metadata": {
    "collapsed": false
   },
   "outputs": [],
   "source": [
    "#### visualization\n",
    "# RFCNbbox_RFCNpred_CROPpred_df = ['image_class', 'image_file','crop_index','x_min','y_min','x_max','ymax',\n",
    "#                                    'NoF_RFCN', 'ALB_RFCN', 'BET_RFCN', 'DOL_RFCN',\n",
    "#                                    'LAG_RFCN', 'OTHER_RFCN', 'SHARK_RFCN', 'YFT_RFCN'\n",
    "#                                    'NoF_CROP', 'ALB_CROP', 'BET_CROP', 'DOL_CROP',\n",
    "#                                    'LAG_CROP', 'OTHER_CROP', 'SHARK_CROP', 'YFT_CROP']\n",
    "#GTbbox_CROPpred_df = ['image_file','crop_index','crop_class','xmin','ymin','xmax','ymax',\n",
    "#                      'NoF', 'ALB', 'BET', 'DOL', 'LAG', 'OTHER', 'SHARK', 'YFT', 'logloss']\n",
    "# test_pred_df = ['logloss','image_class','image_file','NoF', 'ALB', 'BET', 'DOL', 'LAG', 'OTHER', 'SHARK', 'YFT']\n",
    "\n",
    "for j in range(test_pred_df.shape[0]):\n",
    "    image_logloss = test_pred_df.iat[j,0]\n",
    "    image_class = test_pred_df.iat[j,1]\n",
    "    image_file = test_pred_df.iat[j,2]\n",
    "    if image_logloss > 5:\n",
    "        im = Image.open('../RFCN/JPEGImages/'+image_file)\n",
    "        im = np.asarray(im)\n",
    "        fig, ax = plt.subplots(figsize=(10, 8))\n",
    "        ax.imshow(im, aspect='equal')\n",
    "        RFCN_dets = RFCNbbox_RFCNpred_CROPpred_HYBRIDpred_df.loc[RFCNbbox_RFCNpred_CROPpred_HYBRIDpred_df['image_file']==image_file]\n",
    "        for index,row in RFCN_dets.iterrows():\n",
    "            bbox = [row['xmin'],row['ymin'],row['xmax'],row['ymax']]\n",
    "            RFCN = [row['NoF_RFCN'],row['ALB_RFCN'],row['BET_RFCN'],row['DOL_RFCN'],row['LAG_RFCN'],row['OTHER_RFCN'],row['SHARK_RFCN'],row['YFT_RFCN']]\n",
    "            CROP = [row['NoF'],row['ALB'],row['BET'],row['DOL'],row['LAG'],row['OTHER'],row['SHARK'],row['YFT']]\n",
    "            score_RFCN = max(RFCN)\n",
    "            score_CROP = max(CROP)\n",
    "            index_RFCN = RFCN.index(score_RFCN)\n",
    "            index_CROP = CROP.index(score_CROP)\n",
    "            class_RFCN = FISH_CLASSES[index_RFCN]\n",
    "            class_CROP = FISH_CLASSES[index_CROP]\n",
    "            ax.add_patch(plt.Rectangle((bbox[0], bbox[1]), bbox[2] - bbox[0], bbox[3] - bbox[1], fill=False, edgecolor='red', linewidth=2))\n",
    "            ax.text(bbox[0], bbox[1] - 2, 'RFCN_{:s} {:.3f} \\nHYBRID_{:s} {:.3f}'.format(class_RFCN, score_RFCN, class_CROP, score_CROP), bbox=dict(facecolor='red', alpha=0.5), fontsize=8, color='white')       \n",
    "        GT_dets = GTbbox_CROPpred_df.loc[GTbbox_CROPpred_df['image_file']==image_file]\n",
    "        for index,row in GT_dets.iterrows():\n",
    "            bbox = [row['xmin'],row['ymin'],row['xmax'],row['ymax']]\n",
    "            CROP = [row['ALB'],row['BET'],row['DOL'],row['LAG'],row['OTHER'],row['SHARK'],row['YFT']]\n",
    "            score_CROP = max(CROP)\n",
    "            index_CROP = CROP.index(score_CROP)\n",
    "            class_CROP = CROP_CLASSES[index_CROP]\n",
    "            ax.add_patch(plt.Rectangle((bbox[0], bbox[1]), bbox[2] - bbox[0], bbox[3] - bbox[1], fill=False, edgecolor='green', linewidth=2))\n",
    "            ax.text(bbox[0], bbox[3] + 40, 'GT_{:s} \\nCROP_{:s} {:.3f}'.format(row[2], class_CROP, score_CROP), bbox=dict(facecolor='green', alpha=0.5), fontsize=8, color='white')\n",
    "        ax.set_title(('Image {:s}    FISH {:s}    logloss {}').format(image_file, image_class, image_logloss), fontsize=10) \n",
    "        plt.axis('off')\n",
    "        plt.tight_layout()\n",
    "        plt.draw()"
   ]
  },
  {
   "cell_type": "code",
   "execution_count": 61,
   "metadata": {
    "collapsed": false
   },
   "outputs": [
    {
     "name": "stdout",
     "output_type": "stream",
     "text": [
      "image_class\n",
      "--            NaN\n",
      "ALB      0.162973\n",
      "BET      0.183628\n",
      "DOL      0.133640\n",
      "LAG      0.015996\n",
      "NoF      0.370421\n",
      "OTHER    0.102338\n",
      "SHARK    0.135090\n",
      "YFT      0.152516\n",
      "Name: logloss, dtype: float64\n",
      "logloss of train is 0.17795884691494246\n"
     ]
    }
   ],
   "source": [
    "#temperature\n",
    "T = 2.5\n",
    "test_pred_array = test_pred_df[FISH_CLASSES].values\n",
    "test_pred_T_array = np.exp(np.log(test_pred_array)/T)\n",
    "test_pred_T_array = test_pred_T_array/np.sum(test_pred_T_array, axis=1, keepdims=True)\n",
    "test_pred_T_df = pd.DataFrame(test_pred_T_array, columns=FISH_CLASSES)\n",
    "test_pred_T_df = pd.concat([test_pred_df[['image_class','image_file']],test_pred_T_df], axis=1)\n",
    "\n",
    "#add logloss\n",
    "test_pred_T_df['logloss'] = test_pred_T_df.apply(lambda row: -math.log(row[row['image_class']]) if row['image_class']!='--' else np.nan, axis=1)\n",
    "\n",
    "#calculate train logloss\n",
    "print(test_pred_T_df.groupby(['image_class'])['logloss'].mean())\n",
    "train_logloss = test_pred_T_df['logloss'].mean()\n",
    "print('logloss of train is', train_logloss )"
   ]
  },
  {
   "cell_type": "code",
   "execution_count": 62,
   "metadata": {
    "collapsed": false
   },
   "outputs": [
    {
     "name": "stdout",
     "output_type": "stream",
     "text": [
      "Done!RFCN_AGONOSTICnms_resnet101_rfcn_ohem_iter_30000_resnet50_FT38_Classifier_Rep_clsMaxAve_conf0.80_T2.5_0.1780.csv\n"
     ]
    }
   ],
   "source": [
    "#test submission\n",
    "submission = test_pred_T_df.loc[:999,['image_file','NoF', 'ALB', 'BET', 'DOL', 'LAG', 'OTHER', 'SHARK', 'YFT']]\n",
    "submission.rename(columns={'image_file':'image'}, inplace=True)\n",
    "sub_file = 'RFCN_AGONOSTICnms_'+RFCN_MODEL+'_'+CROP_MODEL+'_clsMaxAve_conf{:.2f}_T{}_'.format(CONF_THRESH, T)+'{:.4f}'.format(train_logloss)+'.csv'\n",
    "submission.to_csv(sub_file, index=False)\n",
    "print('Done!'+sub_file)"
   ]
  },
  {
   "cell_type": "code",
   "execution_count": 83,
   "metadata": {
    "collapsed": false
   },
   "outputs": [
    {
     "name": "stdout",
     "output_type": "stream",
     "text": [
      "Loading data done.\n",
      "Convert to float32 done.\n",
      "Rescale by 255 done.\n"
     ]
    }
   ],
   "source": [
    "with open('../data/data_test_BBCrop_{}_{}.pickle'.format(ROWS, COLS), 'rb') as f:\n",
    "    data_test = pickle.load(f)\n",
    "X_test_crop = data_test['X_test_crop']\n",
    "test_crop_files = data_test['test_crop_files']\n",
    "\n",
    "print('Loading data done.')\n",
    "X_test_crop = X_test_crop.astype(np.float32)\n",
    "print('Convert to float32 done.')\n",
    "X_test_crop /= 255.\n",
    "print('Rescale by 255 done.')"
   ]
  },
  {
   "cell_type": "code",
   "execution_count": null,
   "metadata": {
    "collapsed": true
   },
   "outputs": [],
   "source": [
    "test_model = load_model('./resnet50_FT38_CW_STGTrain/checkpoint/weights.014-0.0369.hdf5')"
   ]
  },
  {
   "cell_type": "code",
   "execution_count": null,
   "metadata": {
    "collapsed": false
   },
   "outputs": [
    {
     "name": "stdout",
     "output_type": "stream",
     "text": [
      "5120/6037 [========================>.....] - ETA: 9s "
     ]
    }
   ],
   "source": [
    "X_test_crop_centered = featurewise_center(X_test_crop)\n",
    "test_crop_preds = test_model.predict(X_test_crop_centered, batch_size=BATCHSIZE, verbose=1)"
   ]
  },
  {
   "cell_type": "code",
   "execution_count": null,
   "metadata": {
    "collapsed": false
   },
   "outputs": [],
   "source": [
    "with open(\"../RFCN/ImageSets/Main/test.txt\",\"r\") as f:\n",
    "    ims = f.readlines()\n",
    "test_files = [im[:-1]+'.jpg' for im in ims]\n",
    "\n",
    "count = np.zeros(len(test_files))\n",
    "\n",
    "test_preds = np.ndarray((len(test_files), test_crop_preds.shape[1]), dtype=np.float32)\n",
    "for j in range(len(test_files)):\n",
    "    if j%1000 == 0:\n",
    "        print(j)\n",
    "    file = test_files[j]\n",
    "    test_preds_im = []\n",
    "    for i in range(len(test_crop_files)):\n",
    "        if test_crop_files[i][:9] == file[:9]:\n",
    "            test_preds_im.append(test_crop_preds[i])\n",
    "    test_preds_im = np.asarray(test_preds_im)\n",
    "    score_max = np.max(test_preds_im, axis=1)\n",
    "    inds = np.argmax(test_preds_im, axis=1)\n",
    "    labels = [FISH_CLASSES[ind] for ind in inds]\n",
    "    columns = FISH_CLASSES[:]\n",
    "    test_preds_im_df = pd.DataFrame(test_preds_im, columns=columns)\n",
    "    test_preds_im_df['max_cls'] = labels\n",
    "    test_preds_im_df['max_score'] = score_max \n",
    "    test_preds_im_df['Counts'] = test_preds_im_df.groupby(['max_cls'])['max_cls'].transform('count')\n",
    "    idx = test_preds_im_df.groupby(['max_cls'])['max_score'].transform(max) == test_preds_im_df['max_score']\n",
    "    test_preds_im_df = test_preds_im_df[idx]\n",
    "    count[j] = test_preds_im_df.shape[0]\n",
    "    l = FISH_CLASSES.copy()\n",
    "    l.append('Counts')\n",
    "    test_preds_im_array = test_preds_im_df[l].as_matrix() \n",
    "    test_preds[j] = np.average(test_preds_im_array[:,:-1], axis=0, weights=test_preds_im_array[:,-1], returned=False)"
   ]
  },
  {
   "cell_type": "code",
   "execution_count": null,
   "metadata": {
    "collapsed": true
   },
   "outputs": [],
   "source": [
    "#temperature\n",
    "T = 2.5\n",
    "test_preds_T = np.exp(np.log(test_preds)/T)\n",
    "test_preds_T = test_preds_T/np.sum(test_preds_T, axis=1, keepdims=True)"
   ]
  },
  {
   "cell_type": "code",
   "execution_count": null,
   "metadata": {
    "collapsed": false
   },
   "outputs": [],
   "source": [
    "#calculate train logloss\n",
    "FISH_CLASSES_2 = ['ALB', 'BET', 'DOL', 'LAG', 'NoF', 'OTHER', 'SHARK', 'YFT']\n",
    "\n",
    "train_files = test_files[1000:]\n",
    "train_preds = test_preds_T[1000:,:]\n",
    "with open(\"../RFCN/ImageSets/Main/train_test.txt\",\"r\") as f:\n",
    "    train_file_labels = f.readlines()\n",
    "\n",
    "logloss_df = pd.DataFrame(columns=['image_class','logloss'])\n",
    "for i in range(len(train_preds)):\n",
    "    im = train_files[i][:-4]\n",
    "    for im_label in train_file_labels:\n",
    "        if im_label[:9] == im:\n",
    "            label = im_label[10:-1]\n",
    "            index = FISH_CLASSES_2.index(label)\n",
    "            logloss_df.loc[len(logloss_df)]=[label,-math.log(train_preds[i,index])]\n",
    "#             log_losses.append(-math.log(train_preds[i,index]))\n",
    "\n",
    "print(logloss_df.groupby(['image_class'])['logloss'].mean())\n",
    "train_logloss = logloss_df['logloss'].mean()\n",
    "print('logloss of train is', train_logloss )"
   ]
  },
  {
   "cell_type": "code",
   "execution_count": null,
   "metadata": {
    "collapsed": true
   },
   "outputs": [],
   "source": [
    "image_class\n",
    "ALB      0.226492\n",
    "BET      0.303777\n",
    "DOL      0.254882\n",
    "LAG      0.033155\n",
    "NoF      0.447992\n",
    "OTHER    0.163935\n",
    "SHARK    0.131572\n",
    "YFT      0.227942\n",
    "Name: logloss, dtype: float64\n",
    "logloss of train is 0.24621065547851018\n",
    "image_class\n",
    "ALB      0.207327\n",
    "BET      0.189047\n",
    "DOL      0.111698\n",
    "LAG      0.019987\n",
    "NoF      0.426936\n",
    "OTHER    0.080606\n",
    "SHARK    0.122777\n",
    "YFT      0.118584\n",
    "Name: logloss, dtype: float64\n",
    "logloss of train is 0.1958932319599284\n",
    "image_class\n",
    "--            NaN\n",
    "ALB      0.162973\n",
    "BET      0.183628\n",
    "DOL      0.133640\n",
    "LAG      0.015996\n",
    "NoF      0.370421\n",
    "OTHER    0.102338\n",
    "SHARK    0.135090\n",
    "YFT      0.152516\n",
    "Name: logloss, dtype: float64\n",
    "logloss of train is 0.17795884691494246"
   ]
  },
  {
   "cell_type": "code",
   "execution_count": 91,
   "metadata": {
    "collapsed": true
   },
   "outputs": [],
   "source": [
    "#test submission\n",
    "FISH_CLASSES = ['ALB', 'BET', 'DOL', 'LAG', 'NoF', 'OTHER', 'SHARK', 'YFT']\n",
    "submission = pd.DataFrame(test_preds_T[:1000,:], columns=FISH_CLASSES)\n",
    "submission.insert(0, 'image', test_files[:1000])\n",
    "\n",
    "info = 'RFCN_AGONOSTICnms_'+RFCN_MODEL+'_BBCROP_resnet50_clsMaxAve_conf{:.2f}_T{}_'.format(CONF_THRESH, T) + '{:.4f}'.format(log_loss)\n",
    "sub_file = 'submission_' + info + '.csv'\n",
    "submission.to_csv(sub_file, index=False)"
   ]
  },
  {
   "cell_type": "code",
   "execution_count": null,
   "metadata": {
    "collapsed": true
   },
   "outputs": [],
   "source": []
  }
 ],
 "metadata": {
  "anaconda-cloud": {},
  "kernelspec": {
   "display_name": "Python [conda root]",
   "language": "python",
   "name": "conda-root-py"
  },
  "language_info": {
   "codemirror_mode": {
    "name": "ipython",
    "version": 3
   },
   "file_extension": ".py",
   "mimetype": "text/x-python",
   "name": "python",
   "nbconvert_exporter": "python",
   "pygments_lexer": "ipython3",
   "version": "3.5.2"
  }
 },
 "nbformat": 4,
 "nbformat_minor": 1
}
