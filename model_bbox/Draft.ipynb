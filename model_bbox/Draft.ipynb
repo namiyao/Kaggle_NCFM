{
 "cells": [
  {
   "cell_type": "code",
   "execution_count": 5,
   "metadata": {
    "collapsed": true
   },
   "outputs": [],
   "source": [
    "import pandas as pd\n",
    "import numpy as np"
   ]
  },
  {
   "cell_type": "code",
   "execution_count": 1,
   "metadata": {
    "collapsed": false
   },
   "outputs": [
    {
     "name": "stderr",
     "output_type": "stream",
     "text": [
      "Using TensorFlow backend.\n"
     ]
    }
   ],
   "source": [
    "from keras.models import load_model\n",
    "model = load_model('./resnet50_FT38_CW/checkpoint/weights.059-0.0360.hdf5')"
   ]
  },
  {
   "cell_type": "code",
   "execution_count": 2,
   "metadata": {
    "collapsed": false
   },
   "outputs": [
    {
     "name": "stdout",
     "output_type": "stream",
     "text": [
      "0 input_2\n",
      "1 zeropadding2d_2\n",
      "2 conv1\n",
      "3 bn_conv1\n",
      "4 activation_50\n",
      "5 maxpooling2d_2\n",
      "6 res2a_branch2a\n",
      "7 bn2a_branch2a\n",
      "8 activation_51\n",
      "9 res2a_branch2b\n",
      "10 bn2a_branch2b\n",
      "11 activation_52\n",
      "12 res2a_branch2c\n",
      "13 res2a_branch1\n",
      "14 bn2a_branch2c\n",
      "15 bn2a_branch1\n",
      "16 merge_17\n",
      "17 activation_53\n",
      "18 res2b_branch2a\n",
      "19 bn2b_branch2a\n",
      "20 activation_54\n",
      "21 res2b_branch2b\n",
      "22 bn2b_branch2b\n",
      "23 activation_55\n",
      "24 res2b_branch2c\n",
      "25 bn2b_branch2c\n",
      "26 merge_18\n",
      "27 activation_56\n",
      "28 res2c_branch2a\n",
      "29 bn2c_branch2a\n",
      "30 activation_57\n",
      "31 res2c_branch2b\n",
      "32 bn2c_branch2b\n",
      "33 activation_58\n",
      "34 res2c_branch2c\n",
      "35 bn2c_branch2c\n",
      "36 merge_19\n",
      "37 activation_59\n",
      "38 res3a_branch2a\n",
      "39 bn3a_branch2a\n",
      "40 activation_60\n",
      "41 res3a_branch2b\n",
      "42 bn3a_branch2b\n",
      "43 activation_61\n",
      "44 res3a_branch2c\n",
      "45 res3a_branch1\n",
      "46 bn3a_branch2c\n",
      "47 bn3a_branch1\n",
      "48 merge_20\n",
      "49 activation_62\n",
      "50 res3b_branch2a\n",
      "51 bn3b_branch2a\n",
      "52 activation_63\n",
      "53 res3b_branch2b\n",
      "54 bn3b_branch2b\n",
      "55 activation_64\n",
      "56 res3b_branch2c\n",
      "57 bn3b_branch2c\n",
      "58 merge_21\n",
      "59 activation_65\n",
      "60 res3c_branch2a\n",
      "61 bn3c_branch2a\n",
      "62 activation_66\n",
      "63 res3c_branch2b\n",
      "64 bn3c_branch2b\n",
      "65 activation_67\n",
      "66 res3c_branch2c\n",
      "67 bn3c_branch2c\n",
      "68 merge_22\n",
      "69 activation_68\n",
      "70 res3d_branch2a\n",
      "71 bn3d_branch2a\n",
      "72 activation_69\n",
      "73 res3d_branch2b\n",
      "74 bn3d_branch2b\n",
      "75 activation_70\n",
      "76 res3d_branch2c\n",
      "77 bn3d_branch2c\n",
      "78 merge_23\n",
      "79 activation_71\n",
      "80 res4a_branch2a\n",
      "81 bn4a_branch2a\n",
      "82 activation_72\n",
      "83 res4a_branch2b\n",
      "84 bn4a_branch2b\n",
      "85 activation_73\n",
      "86 res4a_branch2c\n",
      "87 res4a_branch1\n",
      "88 bn4a_branch2c\n",
      "89 bn4a_branch1\n",
      "90 merge_24\n",
      "91 activation_74\n",
      "92 res4b_branch2a\n",
      "93 bn4b_branch2a\n",
      "94 activation_75\n",
      "95 res4b_branch2b\n",
      "96 bn4b_branch2b\n",
      "97 activation_76\n",
      "98 res4b_branch2c\n",
      "99 bn4b_branch2c\n",
      "100 merge_25\n",
      "101 activation_77\n",
      "102 res4c_branch2a\n",
      "103 bn4c_branch2a\n",
      "104 activation_78\n",
      "105 res4c_branch2b\n",
      "106 bn4c_branch2b\n",
      "107 activation_79\n",
      "108 res4c_branch2c\n",
      "109 bn4c_branch2c\n",
      "110 merge_26\n",
      "111 activation_80\n",
      "112 res4d_branch2a\n",
      "113 bn4d_branch2a\n",
      "114 activation_81\n",
      "115 res4d_branch2b\n",
      "116 bn4d_branch2b\n",
      "117 activation_82\n",
      "118 res4d_branch2c\n",
      "119 bn4d_branch2c\n",
      "120 merge_27\n",
      "121 activation_83\n",
      "122 res4e_branch2a\n",
      "123 bn4e_branch2a\n",
      "124 activation_84\n",
      "125 res4e_branch2b\n",
      "126 bn4e_branch2b\n",
      "127 activation_85\n",
      "128 res4e_branch2c\n",
      "129 bn4e_branch2c\n",
      "130 merge_28\n",
      "131 activation_86\n",
      "132 res4f_branch2a\n",
      "133 bn4f_branch2a\n",
      "134 activation_87\n",
      "135 res4f_branch2b\n",
      "136 bn4f_branch2b\n",
      "137 activation_88\n",
      "138 res4f_branch2c\n",
      "139 bn4f_branch2c\n",
      "140 merge_29\n",
      "141 activation_89\n",
      "142 res5a_branch2a\n",
      "143 bn5a_branch2a\n",
      "144 activation_90\n",
      "145 res5a_branch2b\n",
      "146 bn5a_branch2b\n",
      "147 activation_91\n",
      "148 res5a_branch2c\n",
      "149 res5a_branch1\n",
      "150 bn5a_branch2c\n",
      "151 bn5a_branch1\n",
      "152 merge_30\n",
      "153 activation_92\n",
      "154 res5b_branch2a\n",
      "155 bn5b_branch2a\n",
      "156 activation_93\n",
      "157 res5b_branch2b\n",
      "158 bn5b_branch2b\n",
      "159 activation_94\n",
      "160 res5b_branch2c\n",
      "161 bn5b_branch2c\n",
      "162 merge_31\n",
      "163 activation_95\n",
      "164 res5c_branch2a\n",
      "165 bn5c_branch2a\n",
      "166 activation_96\n",
      "167 res5c_branch2b\n",
      "168 bn5c_branch2b\n",
      "169 activation_97\n",
      "170 res5c_branch2c\n",
      "171 bn5c_branch2c\n",
      "172 merge_32\n",
      "173 activation_98\n",
      "174 avg_pool\n",
      "175 globalaveragepooling2d_2\n",
      "176 dense_2\n"
     ]
    }
   ],
   "source": [
    "for i, layer in enumerate(model.layers):\n",
    "    print(i, layer.name)"
   ]
  },
  {
   "cell_type": "code",
   "execution_count": 100,
   "metadata": {
    "collapsed": false
   },
   "outputs": [],
   "source": [
    "df = pd.DataFrame(np.random.randn(5,3),index=range(0,10,2),columns=list('ABC'))"
   ]
  },
  {
   "cell_type": "code",
   "execution_count": 101,
   "metadata": {
    "collapsed": false
   },
   "outputs": [
    {
     "data": {
      "text/html": [
       "<div>\n",
       "<table border=\"1\" class=\"dataframe\">\n",
       "  <thead>\n",
       "    <tr style=\"text-align: right;\">\n",
       "      <th></th>\n",
       "      <th>A</th>\n",
       "      <th>B</th>\n",
       "      <th>C</th>\n",
       "    </tr>\n",
       "  </thead>\n",
       "  <tbody>\n",
       "    <tr>\n",
       "      <th>0</th>\n",
       "      <td>0.256054</td>\n",
       "      <td>-0.025630</td>\n",
       "      <td>-1.108797</td>\n",
       "    </tr>\n",
       "    <tr>\n",
       "      <th>2</th>\n",
       "      <td>1.766054</td>\n",
       "      <td>-1.003439</td>\n",
       "      <td>-0.703147</td>\n",
       "    </tr>\n",
       "    <tr>\n",
       "      <th>4</th>\n",
       "      <td>0.857863</td>\n",
       "      <td>-0.464332</td>\n",
       "      <td>1.225459</td>\n",
       "    </tr>\n",
       "    <tr>\n",
       "      <th>6</th>\n",
       "      <td>0.550564</td>\n",
       "      <td>0.168159</td>\n",
       "      <td>-0.768391</td>\n",
       "    </tr>\n",
       "    <tr>\n",
       "      <th>8</th>\n",
       "      <td>-1.238786</td>\n",
       "      <td>-0.419822</td>\n",
       "      <td>1.265726</td>\n",
       "    </tr>\n",
       "  </tbody>\n",
       "</table>\n",
       "</div>"
      ],
      "text/plain": [
       "          A         B         C\n",
       "0  0.256054 -0.025630 -1.108797\n",
       "2  1.766054 -1.003439 -0.703147\n",
       "4  0.857863 -0.464332  1.225459\n",
       "6  0.550564  0.168159 -0.768391\n",
       "8 -1.238786 -0.419822  1.265726"
      ]
     },
     "execution_count": 101,
     "metadata": {},
     "output_type": "execute_result"
    }
   ],
   "source": [
    "df"
   ]
  },
  {
   "cell_type": "code",
   "execution_count": 102,
   "metadata": {
    "collapsed": false
   },
   "outputs": [],
   "source": [
    "df = df.loc[df['A']>1]"
   ]
  },
  {
   "cell_type": "code",
   "execution_count": 103,
   "metadata": {
    "collapsed": false
   },
   "outputs": [
    {
     "data": {
      "text/html": [
       "<div>\n",
       "<table border=\"1\" class=\"dataframe\">\n",
       "  <thead>\n",
       "    <tr style=\"text-align: right;\">\n",
       "      <th></th>\n",
       "      <th>A</th>\n",
       "      <th>B</th>\n",
       "      <th>C</th>\n",
       "    </tr>\n",
       "  </thead>\n",
       "  <tbody>\n",
       "    <tr>\n",
       "      <th>2</th>\n",
       "      <td>1.766054</td>\n",
       "      <td>-1.003439</td>\n",
       "      <td>-0.703147</td>\n",
       "    </tr>\n",
       "  </tbody>\n",
       "</table>\n",
       "</div>"
      ],
      "text/plain": [
       "          A         B         C\n",
       "2  1.766054 -1.003439 -0.703147"
      ]
     },
     "execution_count": 103,
     "metadata": {},
     "output_type": "execute_result"
    }
   ],
   "source": [
    "df"
   ]
  },
  {
   "cell_type": "code",
   "execution_count": 104,
   "metadata": {
    "collapsed": false
   },
   "outputs": [
    {
     "data": {
      "text/plain": [
       "(1, 3)"
      ]
     },
     "execution_count": 104,
     "metadata": {},
     "output_type": "execute_result"
    }
   ],
   "source": [
    "df.shape"
   ]
  },
  {
   "cell_type": "code",
   "execution_count": 105,
   "metadata": {
    "collapsed": false
   },
   "outputs": [
    {
     "data": {
      "text/plain": [
       "2"
      ]
     },
     "execution_count": 105,
     "metadata": {},
     "output_type": "execute_result"
    }
   ],
   "source": [
    "df.index[0]"
   ]
  },
  {
   "cell_type": "code",
   "execution_count": 106,
   "metadata": {
    "collapsed": false
   },
   "outputs": [
    {
     "data": {
      "text/plain": [
       "1.7660535685202161"
      ]
     },
     "execution_count": 106,
     "metadata": {},
     "output_type": "execute_result"
    }
   ],
   "source": [
    "df.at[df.index[0],'A']"
   ]
  },
  {
   "cell_type": "code",
   "execution_count": 107,
   "metadata": {
    "collapsed": false
   },
   "outputs": [
    {
     "data": {
      "text/plain": [
       "B   -1.003439\n",
       "C   -0.703147\n",
       "Name: 2, dtype: float64"
      ]
     },
     "execution_count": 107,
     "metadata": {},
     "output_type": "execute_result"
    }
   ],
   "source": [
    "df.loc[df.index[0],['B','C']]"
   ]
  },
  {
   "cell_type": "code",
   "execution_count": 108,
   "metadata": {
    "collapsed": false
   },
   "outputs": [],
   "source": [
    "test_pred_df = pd.DataFrame(columns=['B','C'])  "
   ]
  },
  {
   "cell_type": "code",
   "execution_count": 109,
   "metadata": {
    "collapsed": false
   },
   "outputs": [],
   "source": [
    "test_pred_df.loc[len(test_pred_df)]=df.loc[df.index[0],['B','C']]"
   ]
  },
  {
   "cell_type": "code",
   "execution_count": 110,
   "metadata": {
    "collapsed": false
   },
   "outputs": [
    {
     "data": {
      "text/html": [
       "<div>\n",
       "<table border=\"1\" class=\"dataframe\">\n",
       "  <thead>\n",
       "    <tr style=\"text-align: right;\">\n",
       "      <th></th>\n",
       "      <th>B</th>\n",
       "      <th>C</th>\n",
       "    </tr>\n",
       "  </thead>\n",
       "  <tbody>\n",
       "    <tr>\n",
       "      <th>0</th>\n",
       "      <td>-1.003439</td>\n",
       "      <td>-0.703147</td>\n",
       "    </tr>\n",
       "  </tbody>\n",
       "</table>\n",
       "</div>"
      ],
      "text/plain": [
       "          B         C\n",
       "0 -1.003439 -0.703147"
      ]
     },
     "execution_count": 110,
     "metadata": {},
     "output_type": "execute_result"
    }
   ],
   "source": [
    "test_pred_df"
   ]
  },
  {
   "cell_type": "code",
   "execution_count": null,
   "metadata": {
    "collapsed": true
   },
   "outputs": [],
   "source": []
  }
 ],
 "metadata": {
  "anaconda-cloud": {},
  "kernelspec": {
   "display_name": "Python [conda root]",
   "language": "python",
   "name": "conda-root-py"
  },
  "language_info": {
   "codemirror_mode": {
    "name": "ipython",
    "version": 3
   },
   "file_extension": ".py",
   "mimetype": "text/x-python",
   "name": "python",
   "nbconvert_exporter": "python",
   "pygments_lexer": "ipython3",
   "version": "3.5.2"
  }
 },
 "nbformat": 4,
 "nbformat_minor": 1
}
